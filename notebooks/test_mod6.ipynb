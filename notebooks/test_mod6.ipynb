{
  "nbformat": 4,
  "nbformat_minor": 0,
  "metadata": {
    "colab": {
      "provenance": [],
      "collapsed_sections": [],
      "include_colab_link": true
    },
    "kernelspec": {
      "name": "python3",
      "display_name": "Python 3"
    },
    "language_info": {
      "name": "python"
    },
    "accelerator": "GPU",
    "gpuClass": "standard"
  },
  "cells": [
    {
      "cell_type": "markdown",
      "metadata": {
        "id": "view-in-github",
        "colab_type": "text"
      },
      "source": [
        "<a href=\"https://colab.research.google.com/github/flaviowu/btc-c14-g4/blob/main/notebooks/test_mod6.ipynb\" target=\"_parent\"><img src=\"https://colab.research.google.com/assets/colab-badge.svg\" alt=\"Open In Colab\"/></a>"
      ]
    },
    {
      "cell_type": "markdown",
      "source": [
        "Visão geral\n",
        "Surprise é um scikit Python para construir e analisar sistemas de recomendação que lidam com dados de classificação explícitos.\n",
        "\n",
        "Surprise foi projetado com os seguintes propósitos em mente :\n",
        "\n",
        "Dê aos usuários controle perfeito sobre seus experimentos. Para isso, uma forte ênfase é colocada na documentação , que tentamos tornar o mais clara e precisa possível, apontando todos os detalhes dos algoritmos.\n",
        "Alivie a dor do manuseio do conjunto de dados . Os usuários podem usar conjuntos de dados integrados ( Movielens , Jester ) e seus próprios conjuntos de dados personalizados .\n",
        "Forneça vários algoritmos de previsão prontos para uso , como algoritmos de linha de base , métodos de vizinhança , baseados em fatoração de matriz ( SVD , PMF , SVD++ , NMF ) e muitos outros . Além disso, várias medidas de similaridade (cos-seno, MSD, pearson…) são incorporadas.\n",
        "Facilite a implementação de novas ideias de algoritmos .\n",
        "Fornecer ferramentas para avaliar , analisar e comparar o desempenho dos algoritmos. Os procedimentos de validação cruzada podem ser executados com muita facilidade usando poderosos iteradores de CV (inspirados nas excelentes ferramentas do scikit-learn ), bem como uma pesquisa exaustiva sobre um conjunto de parâmetros .\n",
        "O nome SurPRISE (aproximadamente :)) significa Simple Python RecommendatIon System Engine .\n",
        "\n",
        "Observe que a surpresa não suporta classificações implícitas ou informações baseadas em conteúdo.\n",
        "\n",
        "https://surpriselib.com/"
      ],
      "metadata": {
        "id": "rkvX2i0-St3x"
      }
    },
    {
      "cell_type": "code",
      "source": [
        "!pip install surprise\n",
        "\n",
        "import pandas as pd\n",
        "import numpy as np\n",
        "import matplotlib.pyplot as plt \n",
        "import random\n",
        "\n",
        "from surprise import SVD\n",
        "from surprise import NMF\n",
        "from surprise.model_selection import cross_validate\n",
        "from surprise import Reader, Dataset\n",
        "\n",
        "from sklearn.feature_extraction.text import TfidfVectorizer\n",
        "from sklearn.metrics.pairwise import linear_kernel \n",
        "from sklearn.model_selection import train_test_split\n",
        "\n"
      ],
      "metadata": {
        "id": "S--MLg7pOi3D",
        "colab": {
          "base_uri": "https://localhost:8080/"
        },
        "outputId": "8118bcbe-2c55-4a30-e9ad-8d4a85d83a9e"
      },
      "execution_count": null,
      "outputs": [
        {
          "output_type": "stream",
          "name": "stdout",
          "text": [
            "Looking in indexes: https://pypi.org/simple, https://us-python.pkg.dev/colab-wheels/public/simple/\n",
            "Collecting surprise\n",
            "  Downloading surprise-0.1-py2.py3-none-any.whl (1.8 kB)\n",
            "Collecting scikit-surprise\n",
            "  Downloading scikit-surprise-1.1.1.tar.gz (11.8 MB)\n",
            "\u001b[K     |████████████████████████████████| 11.8 MB 4.1 MB/s \n",
            "\u001b[?25hRequirement already satisfied: joblib>=0.11 in /usr/local/lib/python3.7/dist-packages (from scikit-surprise->surprise) (1.1.0)\n",
            "Requirement already satisfied: numpy>=1.11.2 in /usr/local/lib/python3.7/dist-packages (from scikit-surprise->surprise) (1.21.6)\n",
            "Requirement already satisfied: scipy>=1.0.0 in /usr/local/lib/python3.7/dist-packages (from scikit-surprise->surprise) (1.7.3)\n",
            "Requirement already satisfied: six>=1.10.0 in /usr/local/lib/python3.7/dist-packages (from scikit-surprise->surprise) (1.15.0)\n",
            "Building wheels for collected packages: scikit-surprise\n",
            "  Building wheel for scikit-surprise (setup.py) ... \u001b[?25l\u001b[?25hdone\n",
            "  Created wheel for scikit-surprise: filename=scikit_surprise-1.1.1-cp37-cp37m-linux_x86_64.whl size=1633984 sha256=b4e865bae89029550c6a381fb5e823db695a5bc1def5bbd4a0eaf4a054bba903\n",
            "  Stored in directory: /root/.cache/pip/wheels/76/44/74/b498c42be47b2406bd27994e16c5188e337c657025ab400c1c\n",
            "Successfully built scikit-surprise\n",
            "Installing collected packages: scikit-surprise, surprise\n",
            "Successfully installed scikit-surprise-1.1.1 surprise-0.1\n"
          ]
        }
      ]
    },
    {
      "cell_type": "code",
      "source": [
        "train = pd.read_csv('/content/drive/MyDrive/Colab Notebooks/modulo 6/train.tsv', sep = '\\t')\n",
        "test = pd.read_csv('/content/drive/MyDrive/Colab Notebooks/modulo 6/test.tsv', sep = '\\t')\n",
        "\n",
        "def data(n, seed):\n",
        "    \n",
        "    datas = []\n",
        "    random.seed(seed)\n",
        "    for i in range(n):\n",
        "        dia_maximo = 28\n",
        "        dia_minimo = 1\n",
        "        mes_maximo = 13\n",
        "        mes_minimo = 1\n",
        "              \n",
        "        dia = int(random.random() * (dia_maximo - dia_minimo) + dia_minimo)\n",
        "        mes = int(random.random() * (mes_maximo - mes_minimo) + mes_minimo)\n",
        "              \n",
        "        datas.append(str(dia)+'-'+str(mes)+'-2018')\n",
        "              \n",
        "    return datas\n",
        "\n",
        "def estoque(n, seed):\n",
        "    \n",
        "  np.random.seed(seed)\n",
        "  mu, sigma = 1, 20\n",
        "  s = np.random.normal(mu, sigma, n)\n",
        "  s[s < 0] = s[s < 0] * -0.5\n",
        "  s = s.astype(int)\n",
        "  s[s < 1] = 1\n",
        "        \n",
        "  return s\n",
        "\n",
        "train['date']  = data(n = train.shape[0], seed = 10)\n",
        "train['stock'] = estoque(n = train.shape[0], seed = 10)\n",
        "\n",
        "test['date']  = data(n = test.shape[0], seed = 15)\n",
        "test['stock'] = estoque(n = test.shape[0], seed = 15)"
      ],
      "metadata": {
        "id": "E6FiRX3x-nUY"
      },
      "execution_count": null,
      "outputs": []
    },
    {
      "cell_type": "code",
      "source": [
        "train=train.drop(columns=['brand_name','date','stock'])  #drops da coluna marca , data e stock, em estudos não mostraram que não são importantes"
      ],
      "metadata": {
        "id": "nZ--gyZh3t4i"
      },
      "execution_count": null,
      "outputs": []
    },
    {
      "cell_type": "code",
      "source": [
        "train.head()"
      ],
      "metadata": {
        "id": "FZYK7dPHR6g6",
        "colab": {
          "base_uri": "https://localhost:8080/",
          "height": 206
        },
        "outputId": "87318678-df2f-4467-9984-f6d44a35f124"
      },
      "execution_count": null,
      "outputs": [
        {
          "output_type": "execute_result",
          "data": {
            "text/plain": [
              "   train_id                                 name  item_condition_id  \\\n",
              "0         0  MLB Cincinnati Reds T Shirt Size XL                  3   \n",
              "1         1     Razer BlackWidow Chroma Keyboard                  3   \n",
              "2         2                       AVA-VIV Blouse                  1   \n",
              "3         3                Leather Horse Statues                  1   \n",
              "4         4                 24K GOLD plated rose                  1   \n",
              "\n",
              "                                       category_name  price  shipping  \\\n",
              "0                                  Men/Tops/T-shirts   10.0         1   \n",
              "1  Electronics/Computers & Tablets/Components & P...   52.0         0   \n",
              "2                        Women/Tops & Blouses/Blouse   10.0         1   \n",
              "3                 Home/Home Décor/Home Décor Accents   35.0         1   \n",
              "4                            Women/Jewelry/Necklaces   44.0         0   \n",
              "\n",
              "                                    item_description  \n",
              "0                                 No description yet  \n",
              "1  This keyboard is in great condition and works ...  \n",
              "2  Adorable top with a hint of lace and a key hol...  \n",
              "3  New with tags. Leather horses. Retail for [rm]...  \n",
              "4          Complete with certificate of authenticity  "
            ],
            "text/html": [
              "\n",
              "  <div id=\"df-bef24d3b-7a21-4bfc-90a5-ec0a56a1d05a\">\n",
              "    <div class=\"colab-df-container\">\n",
              "      <div>\n",
              "<style scoped>\n",
              "    .dataframe tbody tr th:only-of-type {\n",
              "        vertical-align: middle;\n",
              "    }\n",
              "\n",
              "    .dataframe tbody tr th {\n",
              "        vertical-align: top;\n",
              "    }\n",
              "\n",
              "    .dataframe thead th {\n",
              "        text-align: right;\n",
              "    }\n",
              "</style>\n",
              "<table border=\"1\" class=\"dataframe\">\n",
              "  <thead>\n",
              "    <tr style=\"text-align: right;\">\n",
              "      <th></th>\n",
              "      <th>train_id</th>\n",
              "      <th>name</th>\n",
              "      <th>item_condition_id</th>\n",
              "      <th>category_name</th>\n",
              "      <th>price</th>\n",
              "      <th>shipping</th>\n",
              "      <th>item_description</th>\n",
              "    </tr>\n",
              "  </thead>\n",
              "  <tbody>\n",
              "    <tr>\n",
              "      <th>0</th>\n",
              "      <td>0</td>\n",
              "      <td>MLB Cincinnati Reds T Shirt Size XL</td>\n",
              "      <td>3</td>\n",
              "      <td>Men/Tops/T-shirts</td>\n",
              "      <td>10.0</td>\n",
              "      <td>1</td>\n",
              "      <td>No description yet</td>\n",
              "    </tr>\n",
              "    <tr>\n",
              "      <th>1</th>\n",
              "      <td>1</td>\n",
              "      <td>Razer BlackWidow Chroma Keyboard</td>\n",
              "      <td>3</td>\n",
              "      <td>Electronics/Computers &amp; Tablets/Components &amp; P...</td>\n",
              "      <td>52.0</td>\n",
              "      <td>0</td>\n",
              "      <td>This keyboard is in great condition and works ...</td>\n",
              "    </tr>\n",
              "    <tr>\n",
              "      <th>2</th>\n",
              "      <td>2</td>\n",
              "      <td>AVA-VIV Blouse</td>\n",
              "      <td>1</td>\n",
              "      <td>Women/Tops &amp; Blouses/Blouse</td>\n",
              "      <td>10.0</td>\n",
              "      <td>1</td>\n",
              "      <td>Adorable top with a hint of lace and a key hol...</td>\n",
              "    </tr>\n",
              "    <tr>\n",
              "      <th>3</th>\n",
              "      <td>3</td>\n",
              "      <td>Leather Horse Statues</td>\n",
              "      <td>1</td>\n",
              "      <td>Home/Home Décor/Home Décor Accents</td>\n",
              "      <td>35.0</td>\n",
              "      <td>1</td>\n",
              "      <td>New with tags. Leather horses. Retail for [rm]...</td>\n",
              "    </tr>\n",
              "    <tr>\n",
              "      <th>4</th>\n",
              "      <td>4</td>\n",
              "      <td>24K GOLD plated rose</td>\n",
              "      <td>1</td>\n",
              "      <td>Women/Jewelry/Necklaces</td>\n",
              "      <td>44.0</td>\n",
              "      <td>0</td>\n",
              "      <td>Complete with certificate of authenticity</td>\n",
              "    </tr>\n",
              "  </tbody>\n",
              "</table>\n",
              "</div>\n",
              "      <button class=\"colab-df-convert\" onclick=\"convertToInteractive('df-bef24d3b-7a21-4bfc-90a5-ec0a56a1d05a')\"\n",
              "              title=\"Convert this dataframe to an interactive table.\"\n",
              "              style=\"display:none;\">\n",
              "        \n",
              "  <svg xmlns=\"http://www.w3.org/2000/svg\" height=\"24px\"viewBox=\"0 0 24 24\"\n",
              "       width=\"24px\">\n",
              "    <path d=\"M0 0h24v24H0V0z\" fill=\"none\"/>\n",
              "    <path d=\"M18.56 5.44l.94 2.06.94-2.06 2.06-.94-2.06-.94-.94-2.06-.94 2.06-2.06.94zm-11 1L8.5 8.5l.94-2.06 2.06-.94-2.06-.94L8.5 2.5l-.94 2.06-2.06.94zm10 10l.94 2.06.94-2.06 2.06-.94-2.06-.94-.94-2.06-.94 2.06-2.06.94z\"/><path d=\"M17.41 7.96l-1.37-1.37c-.4-.4-.92-.59-1.43-.59-.52 0-1.04.2-1.43.59L10.3 9.45l-7.72 7.72c-.78.78-.78 2.05 0 2.83L4 21.41c.39.39.9.59 1.41.59.51 0 1.02-.2 1.41-.59l7.78-7.78 2.81-2.81c.8-.78.8-2.07 0-2.86zM5.41 20L4 18.59l7.72-7.72 1.47 1.35L5.41 20z\"/>\n",
              "  </svg>\n",
              "      </button>\n",
              "      \n",
              "  <style>\n",
              "    .colab-df-container {\n",
              "      display:flex;\n",
              "      flex-wrap:wrap;\n",
              "      gap: 12px;\n",
              "    }\n",
              "\n",
              "    .colab-df-convert {\n",
              "      background-color: #E8F0FE;\n",
              "      border: none;\n",
              "      border-radius: 50%;\n",
              "      cursor: pointer;\n",
              "      display: none;\n",
              "      fill: #1967D2;\n",
              "      height: 32px;\n",
              "      padding: 0 0 0 0;\n",
              "      width: 32px;\n",
              "    }\n",
              "\n",
              "    .colab-df-convert:hover {\n",
              "      background-color: #E2EBFA;\n",
              "      box-shadow: 0px 1px 2px rgba(60, 64, 67, 0.3), 0px 1px 3px 1px rgba(60, 64, 67, 0.15);\n",
              "      fill: #174EA6;\n",
              "    }\n",
              "\n",
              "    [theme=dark] .colab-df-convert {\n",
              "      background-color: #3B4455;\n",
              "      fill: #D2E3FC;\n",
              "    }\n",
              "\n",
              "    [theme=dark] .colab-df-convert:hover {\n",
              "      background-color: #434B5C;\n",
              "      box-shadow: 0px 1px 3px 1px rgba(0, 0, 0, 0.15);\n",
              "      filter: drop-shadow(0px 1px 2px rgba(0, 0, 0, 0.3));\n",
              "      fill: #FFFFFF;\n",
              "    }\n",
              "  </style>\n",
              "\n",
              "      <script>\n",
              "        const buttonEl =\n",
              "          document.querySelector('#df-bef24d3b-7a21-4bfc-90a5-ec0a56a1d05a button.colab-df-convert');\n",
              "        buttonEl.style.display =\n",
              "          google.colab.kernel.accessAllowed ? 'block' : 'none';\n",
              "\n",
              "        async function convertToInteractive(key) {\n",
              "          const element = document.querySelector('#df-bef24d3b-7a21-4bfc-90a5-ec0a56a1d05a');\n",
              "          const dataTable =\n",
              "            await google.colab.kernel.invokeFunction('convertToInteractive',\n",
              "                                                     [key], {});\n",
              "          if (!dataTable) return;\n",
              "\n",
              "          const docLinkHtml = 'Like what you see? Visit the ' +\n",
              "            '<a target=\"_blank\" href=https://colab.research.google.com/notebooks/data_table.ipynb>data table notebook</a>'\n",
              "            + ' to learn more about interactive tables.';\n",
              "          element.innerHTML = '';\n",
              "          dataTable['output_type'] = 'display_data';\n",
              "          await google.colab.output.renderOutput(dataTable, element);\n",
              "          const docLink = document.createElement('div');\n",
              "          docLink.innerHTML = docLinkHtml;\n",
              "          element.appendChild(docLink);\n",
              "        }\n",
              "      </script>\n",
              "    </div>\n",
              "  </div>\n",
              "  "
            ]
          },
          "metadata": {},
          "execution_count": 4
        }
      ]
    },
    {
      "cell_type": "code",
      "source": [
        "train.info()"
      ],
      "metadata": {
        "id": "8qGUG5-jSA06",
        "colab": {
          "base_uri": "https://localhost:8080/"
        },
        "outputId": "7c15dd17-adc7-4996-e873-db00a94bc1d6"
      },
      "execution_count": null,
      "outputs": [
        {
          "output_type": "stream",
          "name": "stdout",
          "text": [
            "<class 'pandas.core.frame.DataFrame'>\n",
            "RangeIndex: 1482535 entries, 0 to 1482534\n",
            "Data columns (total 7 columns):\n",
            " #   Column             Non-Null Count    Dtype  \n",
            "---  ------             --------------    -----  \n",
            " 0   train_id           1482535 non-null  int64  \n",
            " 1   name               1482535 non-null  object \n",
            " 2   item_condition_id  1482535 non-null  int64  \n",
            " 3   category_name      1476208 non-null  object \n",
            " 4   price              1482535 non-null  float64\n",
            " 5   shipping           1482535 non-null  int64  \n",
            " 6   item_description   1482531 non-null  object \n",
            "dtypes: float64(1), int64(3), object(3)\n",
            "memory usage: 79.2+ MB\n"
          ]
        }
      ]
    },
    {
      "cell_type": "code",
      "source": [
        "print(train.isnull()) \n",
        "print(train.isna())"
      ],
      "metadata": {
        "id": "IzY1aA8O42vv",
        "colab": {
          "base_uri": "https://localhost:8080/"
        },
        "outputId": "a906155f-da5d-46c0-c5df-60fc861b5052"
      },
      "execution_count": null,
      "outputs": [
        {
          "output_type": "stream",
          "name": "stdout",
          "text": [
            "         train_id   name  item_condition_id  category_name  price  shipping  \\\n",
            "0           False  False              False          False  False     False   \n",
            "1           False  False              False          False  False     False   \n",
            "2           False  False              False          False  False     False   \n",
            "3           False  False              False          False  False     False   \n",
            "4           False  False              False          False  False     False   \n",
            "...           ...    ...                ...            ...    ...       ...   \n",
            "1482530     False  False              False          False  False     False   \n",
            "1482531     False  False              False          False  False     False   \n",
            "1482532     False  False              False          False  False     False   \n",
            "1482533     False  False              False          False  False     False   \n",
            "1482534     False  False              False          False  False     False   \n",
            "\n",
            "         item_description  \n",
            "0                   False  \n",
            "1                   False  \n",
            "2                   False  \n",
            "3                   False  \n",
            "4                   False  \n",
            "...                   ...  \n",
            "1482530             False  \n",
            "1482531             False  \n",
            "1482532             False  \n",
            "1482533             False  \n",
            "1482534             False  \n",
            "\n",
            "[1482535 rows x 7 columns]\n",
            "         train_id   name  item_condition_id  category_name  price  shipping  \\\n",
            "0           False  False              False          False  False     False   \n",
            "1           False  False              False          False  False     False   \n",
            "2           False  False              False          False  False     False   \n",
            "3           False  False              False          False  False     False   \n",
            "4           False  False              False          False  False     False   \n",
            "...           ...    ...                ...            ...    ...       ...   \n",
            "1482530     False  False              False          False  False     False   \n",
            "1482531     False  False              False          False  False     False   \n",
            "1482532     False  False              False          False  False     False   \n",
            "1482533     False  False              False          False  False     False   \n",
            "1482534     False  False              False          False  False     False   \n",
            "\n",
            "         item_description  \n",
            "0                   False  \n",
            "1                   False  \n",
            "2                   False  \n",
            "3                   False  \n",
            "4                   False  \n",
            "...                   ...  \n",
            "1482530             False  \n",
            "1482531             False  \n",
            "1482532             False  \n",
            "1482533             False  \n",
            "1482534             False  \n",
            "\n",
            "[1482535 rows x 7 columns]\n"
          ]
        }
      ]
    },
    {
      "cell_type": "code",
      "source": [
        "train=train.dropna()\n",
        "train.info()"
      ],
      "metadata": {
        "id": "Es1UCYD34dsH",
        "colab": {
          "base_uri": "https://localhost:8080/"
        },
        "outputId": "b42642ae-a508-4e2f-e815-d0306b38e306"
      },
      "execution_count": null,
      "outputs": [
        {
          "output_type": "stream",
          "name": "stdout",
          "text": [
            "<class 'pandas.core.frame.DataFrame'>\n",
            "Int64Index: 1476204 entries, 0 to 1482534\n",
            "Data columns (total 7 columns):\n",
            " #   Column             Non-Null Count    Dtype  \n",
            "---  ------             --------------    -----  \n",
            " 0   train_id           1476204 non-null  int64  \n",
            " 1   name               1476204 non-null  object \n",
            " 2   item_condition_id  1476204 non-null  int64  \n",
            " 3   category_name      1476204 non-null  object \n",
            " 4   price              1476204 non-null  float64\n",
            " 5   shipping           1476204 non-null  int64  \n",
            " 6   item_description   1476204 non-null  object \n",
            "dtypes: float64(1), int64(3), object(3)\n",
            "memory usage: 90.1+ MB\n"
          ]
        }
      ]
    },
    {
      "cell_type": "code",
      "source": [
        "train['price'].max()"
      ],
      "metadata": {
        "id": "WOCpiuJxSCzS",
        "colab": {
          "base_uri": "https://localhost:8080/"
        },
        "outputId": "cc0178f8-6641-4f8f-ee52-4f991d8d0e44"
      },
      "execution_count": null,
      "outputs": [
        {
          "output_type": "execute_result",
          "data": {
            "text/plain": [
              "2009.0"
            ]
          },
          "metadata": {},
          "execution_count": 8
        }
      ]
    },
    {
      "cell_type": "code",
      "source": [
        "random_train = train.sample(frac=0.01,random_state=99) # tem que ser muito baixo , crash memória ram acima disso "
      ],
      "metadata": {
        "id": "UiBedBMW74KA"
      },
      "execution_count": null,
      "outputs": []
    },
    {
      "cell_type": "code",
      "source": [
        "random_train.info()"
      ],
      "metadata": {
        "colab": {
          "base_uri": "https://localhost:8080/"
        },
        "id": "xbr82E2iA3Sy",
        "outputId": "3ef1a729-542f-41d1-c6c3-a66e45e7f229"
      },
      "execution_count": null,
      "outputs": [
        {
          "output_type": "stream",
          "name": "stdout",
          "text": [
            "<class 'pandas.core.frame.DataFrame'>\n",
            "Int64Index: 14762 entries, 533258 to 351418\n",
            "Data columns (total 7 columns):\n",
            " #   Column             Non-Null Count  Dtype  \n",
            "---  ------             --------------  -----  \n",
            " 0   train_id           14762 non-null  int64  \n",
            " 1   name               14762 non-null  object \n",
            " 2   item_condition_id  14762 non-null  int64  \n",
            " 3   category_name      14762 non-null  object \n",
            " 4   price              14762 non-null  float64\n",
            " 5   shipping           14762 non-null  int64  \n",
            " 6   item_description   14762 non-null  object \n",
            "dtypes: float64(1), int64(3), object(3)\n",
            "memory usage: 922.6+ KB\n"
          ]
        }
      ]
    },
    {
      "cell_type": "code",
      "source": [
        "reader = Reader(rating_scale=(0, 2009))# coloquei para ir até o preço max\n",
        "\n",
        "data = Dataset.load_from_df(random_train[['train_id','price','item_condition_id']], reader)\n",
        "\n",
        "algo = SVD()\n",
        "cross_validate(algo, data, measures=['RMSE','MAE'], cv=4, verbose=True)\n",
        "\n"
      ],
      "metadata": {
        "colab": {
          "base_uri": "https://localhost:8080/"
        },
        "id": "kMtHhVOdSJjJ",
        "outputId": "afa64ad7-b5bc-497f-b807-631a13c5fb39"
      },
      "execution_count": null,
      "outputs": [
        {
          "output_type": "stream",
          "name": "stdout",
          "text": [
            "Evaluating RMSE, MAE of algorithm SVD on 4 split(s).\n",
            "\n",
            "                  Fold 1  Fold 2  Fold 3  Fold 4  Mean    Std     \n",
            "RMSE (testset)    0.9084  0.9010  0.8959  0.8923  0.8994  0.0060  \n",
            "MAE (testset)     0.7901  0.7750  0.7753  0.7773  0.7794  0.0062  \n",
            "Fit time          0.70    0.57    0.58    0.68    0.63    0.06    \n",
            "Test time         0.02    0.02    0.02    0.02    0.02    0.00    \n"
          ]
        },
        {
          "output_type": "execute_result",
          "data": {
            "text/plain": [
              "{'test_rmse': array([0.90841768, 0.90095664, 0.89585768, 0.89233484]),\n",
              " 'test_mae': array([0.7901147 , 0.77499951, 0.77529656, 0.77728965]),\n",
              " 'fit_time': (0.7007725238800049,\n",
              "  0.5733885765075684,\n",
              "  0.5755734443664551,\n",
              "  0.6799583435058594),\n",
              " 'test_time': (0.0231478214263916,\n",
              "  0.017055988311767578,\n",
              "  0.01752018928527832,\n",
              "  0.017934560775756836)}"
            ]
          },
          "metadata": {},
          "execution_count": 11
        }
      ]
    },
    {
      "cell_type": "code",
      "source": [
        "#Utilizei o trai_set para o train e test \n",
        "train_set = data.build_full_trainset()\n",
        "test_set = train_set.build_anti_testset()\n"
      ],
      "metadata": {
        "id": "sNwiOh4a9aU4"
      },
      "execution_count": null,
      "outputs": []
    },
    {
      "cell_type": "code",
      "source": [
        "predictions = algo.fit(train_set).test(test_set)"
      ],
      "metadata": {
        "id": "zgOm6KT_9bfP"
      },
      "execution_count": null,
      "outputs": []
    },
    {
      "cell_type": "code",
      "source": [
        "train.loc[:, 'train_id'] = train.loc[:, 'name'].astype('category').cat.codes\n",
        "\n",
        "train_price, test_price = train_test_split(train, train_size=0.003) # mais que 0.003 vai crashar \n",
        "\n",
        "train_price.reset_index(drop=True, inplace=True)\n",
        "\n",
        "\n",
        "train_price.head()\n"
      ],
      "metadata": {
        "colab": {
          "base_uri": "https://localhost:8080/",
          "height": 206
        },
        "id": "LFk_hX2wIQ7B",
        "outputId": "34d9041f-18c2-4d29-bed4-e6ccfee126cb"
      },
      "execution_count": null,
      "outputs": [
        {
          "output_type": "execute_result",
          "data": {
            "text/plain": [
              "   train_id                                 name  item_condition_id  \\\n",
              "0    355304                    FOR WARREN ALISHA                  3   \n",
              "1    458727            Harley Davidson Tee-Shirt                  2   \n",
              "2    231835  Bumgenius 4.0 chaplain cloth diaper                  1   \n",
              "3    640778                        MacBook Cover                  2   \n",
              "4    855586          Pink portable charging bank                  2   \n",
              "\n",
              "                                       category_name  price  shipping  \\\n",
              "0                               Men/Tops/Polo, Rugby    8.0         1   \n",
              "1                                  Men/Tops/T-shirts   14.0         0   \n",
              "2                       Kids/Diapering/Cloth Diapers   23.0         0   \n",
              "3  Electronics/Computers & Tablets/Laptops & Netb...    9.0         0   \n",
              "4  Electronics/Cell Phones & Accessories/Chargers...    5.0         1   \n",
              "\n",
              "                                    item_description  \n",
              "0                                 No description yet  \n",
              "1  Men's L Nice graphic shirt with quality cotton...  \n",
              "2  This is a bumgenius 4.0 pocket diaper in Chapl...  \n",
              "3  Case cover fits MacBook Pro Model No A1278. In...  \n",
              "4                                 No description yet  "
            ],
            "text/html": [
              "\n",
              "  <div id=\"df-dc4240f0-6d44-4932-844b-85d499852d51\">\n",
              "    <div class=\"colab-df-container\">\n",
              "      <div>\n",
              "<style scoped>\n",
              "    .dataframe tbody tr th:only-of-type {\n",
              "        vertical-align: middle;\n",
              "    }\n",
              "\n",
              "    .dataframe tbody tr th {\n",
              "        vertical-align: top;\n",
              "    }\n",
              "\n",
              "    .dataframe thead th {\n",
              "        text-align: right;\n",
              "    }\n",
              "</style>\n",
              "<table border=\"1\" class=\"dataframe\">\n",
              "  <thead>\n",
              "    <tr style=\"text-align: right;\">\n",
              "      <th></th>\n",
              "      <th>train_id</th>\n",
              "      <th>name</th>\n",
              "      <th>item_condition_id</th>\n",
              "      <th>category_name</th>\n",
              "      <th>price</th>\n",
              "      <th>shipping</th>\n",
              "      <th>item_description</th>\n",
              "    </tr>\n",
              "  </thead>\n",
              "  <tbody>\n",
              "    <tr>\n",
              "      <th>0</th>\n",
              "      <td>355304</td>\n",
              "      <td>FOR WARREN ALISHA</td>\n",
              "      <td>3</td>\n",
              "      <td>Men/Tops/Polo, Rugby</td>\n",
              "      <td>8.0</td>\n",
              "      <td>1</td>\n",
              "      <td>No description yet</td>\n",
              "    </tr>\n",
              "    <tr>\n",
              "      <th>1</th>\n",
              "      <td>458727</td>\n",
              "      <td>Harley Davidson Tee-Shirt</td>\n",
              "      <td>2</td>\n",
              "      <td>Men/Tops/T-shirts</td>\n",
              "      <td>14.0</td>\n",
              "      <td>0</td>\n",
              "      <td>Men's L Nice graphic shirt with quality cotton...</td>\n",
              "    </tr>\n",
              "    <tr>\n",
              "      <th>2</th>\n",
              "      <td>231835</td>\n",
              "      <td>Bumgenius 4.0 chaplain cloth diaper</td>\n",
              "      <td>1</td>\n",
              "      <td>Kids/Diapering/Cloth Diapers</td>\n",
              "      <td>23.0</td>\n",
              "      <td>0</td>\n",
              "      <td>This is a bumgenius 4.0 pocket diaper in Chapl...</td>\n",
              "    </tr>\n",
              "    <tr>\n",
              "      <th>3</th>\n",
              "      <td>640778</td>\n",
              "      <td>MacBook Cover</td>\n",
              "      <td>2</td>\n",
              "      <td>Electronics/Computers &amp; Tablets/Laptops &amp; Netb...</td>\n",
              "      <td>9.0</td>\n",
              "      <td>0</td>\n",
              "      <td>Case cover fits MacBook Pro Model No A1278. In...</td>\n",
              "    </tr>\n",
              "    <tr>\n",
              "      <th>4</th>\n",
              "      <td>855586</td>\n",
              "      <td>Pink portable charging bank</td>\n",
              "      <td>2</td>\n",
              "      <td>Electronics/Cell Phones &amp; Accessories/Chargers...</td>\n",
              "      <td>5.0</td>\n",
              "      <td>1</td>\n",
              "      <td>No description yet</td>\n",
              "    </tr>\n",
              "  </tbody>\n",
              "</table>\n",
              "</div>\n",
              "      <button class=\"colab-df-convert\" onclick=\"convertToInteractive('df-dc4240f0-6d44-4932-844b-85d499852d51')\"\n",
              "              title=\"Convert this dataframe to an interactive table.\"\n",
              "              style=\"display:none;\">\n",
              "        \n",
              "  <svg xmlns=\"http://www.w3.org/2000/svg\" height=\"24px\"viewBox=\"0 0 24 24\"\n",
              "       width=\"24px\">\n",
              "    <path d=\"M0 0h24v24H0V0z\" fill=\"none\"/>\n",
              "    <path d=\"M18.56 5.44l.94 2.06.94-2.06 2.06-.94-2.06-.94-.94-2.06-.94 2.06-2.06.94zm-11 1L8.5 8.5l.94-2.06 2.06-.94-2.06-.94L8.5 2.5l-.94 2.06-2.06.94zm10 10l.94 2.06.94-2.06 2.06-.94-2.06-.94-.94-2.06-.94 2.06-2.06.94z\"/><path d=\"M17.41 7.96l-1.37-1.37c-.4-.4-.92-.59-1.43-.59-.52 0-1.04.2-1.43.59L10.3 9.45l-7.72 7.72c-.78.78-.78 2.05 0 2.83L4 21.41c.39.39.9.59 1.41.59.51 0 1.02-.2 1.41-.59l7.78-7.78 2.81-2.81c.8-.78.8-2.07 0-2.86zM5.41 20L4 18.59l7.72-7.72 1.47 1.35L5.41 20z\"/>\n",
              "  </svg>\n",
              "      </button>\n",
              "      \n",
              "  <style>\n",
              "    .colab-df-container {\n",
              "      display:flex;\n",
              "      flex-wrap:wrap;\n",
              "      gap: 12px;\n",
              "    }\n",
              "\n",
              "    .colab-df-convert {\n",
              "      background-color: #E8F0FE;\n",
              "      border: none;\n",
              "      border-radius: 50%;\n",
              "      cursor: pointer;\n",
              "      display: none;\n",
              "      fill: #1967D2;\n",
              "      height: 32px;\n",
              "      padding: 0 0 0 0;\n",
              "      width: 32px;\n",
              "    }\n",
              "\n",
              "    .colab-df-convert:hover {\n",
              "      background-color: #E2EBFA;\n",
              "      box-shadow: 0px 1px 2px rgba(60, 64, 67, 0.3), 0px 1px 3px 1px rgba(60, 64, 67, 0.15);\n",
              "      fill: #174EA6;\n",
              "    }\n",
              "\n",
              "    [theme=dark] .colab-df-convert {\n",
              "      background-color: #3B4455;\n",
              "      fill: #D2E3FC;\n",
              "    }\n",
              "\n",
              "    [theme=dark] .colab-df-convert:hover {\n",
              "      background-color: #434B5C;\n",
              "      box-shadow: 0px 1px 3px 1px rgba(0, 0, 0, 0.15);\n",
              "      filter: drop-shadow(0px 1px 2px rgba(0, 0, 0, 0.3));\n",
              "      fill: #FFFFFF;\n",
              "    }\n",
              "  </style>\n",
              "\n",
              "      <script>\n",
              "        const buttonEl =\n",
              "          document.querySelector('#df-dc4240f0-6d44-4932-844b-85d499852d51 button.colab-df-convert');\n",
              "        buttonEl.style.display =\n",
              "          google.colab.kernel.accessAllowed ? 'block' : 'none';\n",
              "\n",
              "        async function convertToInteractive(key) {\n",
              "          const element = document.querySelector('#df-dc4240f0-6d44-4932-844b-85d499852d51');\n",
              "          const dataTable =\n",
              "            await google.colab.kernel.invokeFunction('convertToInteractive',\n",
              "                                                     [key], {});\n",
              "          if (!dataTable) return;\n",
              "\n",
              "          const docLinkHtml = 'Like what you see? Visit the ' +\n",
              "            '<a target=\"_blank\" href=https://colab.research.google.com/notebooks/data_table.ipynb>data table notebook</a>'\n",
              "            + ' to learn more about interactive tables.';\n",
              "          element.innerHTML = '';\n",
              "          dataTable['output_type'] = 'display_data';\n",
              "          await google.colab.output.renderOutput(dataTable, element);\n",
              "          const docLink = document.createElement('div');\n",
              "          docLink.innerHTML = docLinkHtml;\n",
              "          element.appendChild(docLink);\n",
              "        }\n",
              "      </script>\n",
              "    </div>\n",
              "  </div>\n",
              "  "
            ]
          },
          "metadata": {},
          "execution_count": 14
        }
      ]
    },
    {
      "cell_type": "code",
      "source": [
        "train_price.info()"
      ],
      "metadata": {
        "id": "AKu39kHnQokF",
        "colab": {
          "base_uri": "https://localhost:8080/"
        },
        "outputId": "726eca8f-bd48-483c-c6cc-162410f1e5de"
      },
      "execution_count": null,
      "outputs": [
        {
          "output_type": "stream",
          "name": "stdout",
          "text": [
            "<class 'pandas.core.frame.DataFrame'>\n",
            "RangeIndex: 4428 entries, 0 to 4427\n",
            "Data columns (total 7 columns):\n",
            " #   Column             Non-Null Count  Dtype  \n",
            "---  ------             --------------  -----  \n",
            " 0   train_id           4428 non-null   int32  \n",
            " 1   name               4428 non-null   object \n",
            " 2   item_condition_id  4428 non-null   int64  \n",
            " 3   category_name      4428 non-null   object \n",
            " 4   price              4428 non-null   float64\n",
            " 5   shipping           4428 non-null   int64  \n",
            " 6   item_description   4428 non-null   object \n",
            "dtypes: float64(1), int32(1), int64(2), object(3)\n",
            "memory usage: 225.0+ KB\n"
          ]
        }
      ]
    },
    {
      "cell_type": "code",
      "source": [
        "# o recomendador vai se basear nos dados obtidos do vectorizer da descrição dos itens\n",
        "\n",
        "print(f\"Foi utilizado {len(train_price)} amostras para o treino.\")\n",
        "tf = TfidfVectorizer(analyzer='word', ngram_range=(1, 3), min_df = 0, stop_words='english')\n",
        "\n",
        "tfidf_matrix = tf.fit_transform(train_price['category_name'])"
      ],
      "metadata": {
        "id": "eaNUJiNoK1Bp",
        "colab": {
          "base_uri": "https://localhost:8080/"
        },
        "outputId": "f75b9b2a-5c2b-4f3a-f354-624419acbee0"
      },
      "execution_count": null,
      "outputs": [
        {
          "output_type": "stream",
          "name": "stdout",
          "text": [
            "Foi utilizado 4428 amostras para o treino.\n"
          ]
        }
      ]
    },
    {
      "cell_type": "code",
      "source": [
        "cosine_similarities = linear_kernel(tfidf_matrix, tfidf_matrix)\n",
        "\n",
        "results = {}\n",
        "for idx, row in train_price.iterrows():\n",
        "    similar_indices = cosine_similarities[idx].argsort()[:100:-1]\n",
        "    similar_items = [(cosine_similarities[idx][i], train_price['train_id'][i]) for i in similar_indices]\n",
        "    results[row['train_id']] = similar_items[1:]\n",
        "\n",
        "\n"
      ],
      "metadata": {
        "id": "aMyv1LnPOH2E"
      },
      "execution_count": null,
      "outputs": []
    },
    {
      "cell_type": "code",
      "source": [
        "def item(id):\n",
        "    return train_price.loc[train_price['train_id'] == id]['name'].tolist()[0].split(' - ')[0]\n",
        "\n",
        "def rec(item_id, num):\n",
        "    print('Recomendo ' + str(num) + ' valores refrente ao produto  ' + item(item_id) + ' .')\n",
        "    print('-----')\n",
        "    recs = results[item_id][:num]\n",
        "    for rec in recs:\n",
        "        print('Recomendação : ' + item(rec[1]),  )\n",
        "\n",
        "            "
      ],
      "metadata": {
        "id": "jaCL_AezEAOR"
      },
      "execution_count": null,
      "outputs": []
    },
    {
      "cell_type": "code",
      "source": [
        "itemId_= train_price.loc[:, 'train_id'].values[0] # primeira linha do df train_price\n",
        "itemName_=  train_price.loc[train_price['train_id'] == itemId_, 'name'].values[0] \n",
        "itemPrice_= train_price.loc[train_price['train_id'] == itemId_, 'price'].values[0]\n",
        "\n",
        "print(f\"o item  {itemId_} , de nome {itemName_} , de valor $ {itemPrice_} \\n \")\n",
        "\n",
        "\n",
        "\n",
        "rec(item_id=itemId_, num=5)"
      ],
      "metadata": {
        "id": "h-OF5ekHOiHL",
        "colab": {
          "base_uri": "https://localhost:8080/"
        },
        "outputId": "e2f8ab51-8e34-4a27-d433-8ab62e21ccb3"
      },
      "execution_count": null,
      "outputs": [
        {
          "output_type": "stream",
          "name": "stdout",
          "text": [
            "o item  355304 , de nome FOR WARREN ALISHA , de valor $ 8.0 \n",
            " \n",
            "Recomendo 5 valores refrente ao produto  FOR WARREN ALISHA .\n",
            "-----\n",
            "Recomendação : Lacoste Polo, size 4 (medium)\n",
            "Recomendação : 2 x burberry polo shirt for jramirez\n",
            "Recomendação : Express men's polo bundle\n",
            "Recomendação : Polo Ralph Lauren Collared Shirt\n",
            "Recomendação : Banana Republic Men's Medium Polo\n"
          ]
        }
      ]
    }
  ]
}