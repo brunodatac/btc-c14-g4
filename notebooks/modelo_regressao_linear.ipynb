{
  "cells": [
    {
      "cell_type": "markdown",
      "metadata": {
        "id": "view-in-github",
        "colab_type": "text"
      },
      "source": [
        "<a href=\"https://colab.research.google.com/github/flaviowu/btc-c14-g4/blob/main/notebooks/modelo_regressao_linear.ipynb\" target=\"_parent\"><img src=\"https://colab.research.google.com/assets/colab-badge.svg\" alt=\"Open In Colab\"/></a>"
      ]
    },
    {
      "cell_type": "code",
      "execution_count": 1,
      "metadata": {
        "colab": {
          "base_uri": "https://localhost:8080/"
        },
        "id": "zqncKeBIZbSa",
        "outputId": "df75e1a2-de88-4284-fb1b-dee26f1e111a"
      },
      "outputs": [
        {
          "output_type": "stream",
          "name": "stdout",
          "text": [
            "Drive already mounted at /content/drive; to attempt to forcibly remount, call drive.mount(\"/content/drive\", force_remount=True).\n"
          ]
        }
      ],
      "source": [
        "from google.colab import drive\n",
        "drive.mount('/content/drive')"
      ]
    },
    {
      "cell_type": "code",
      "execution_count": 2,
      "metadata": {
        "id": "KllAHXseGj1y"
      },
      "outputs": [],
      "source": [
        "import random\n",
        "import numpy as np\n",
        "import pandas as pd\n",
        "import matplotlib.pyplot as plt\n",
        "import seaborn as sns\n",
        "\n",
        "df = pd.read_csv('drive/MyDrive/Colab Notebooks/BTC-Dados-G4/train_raw.csv')\n"
      ]
    },
    {
      "cell_type": "markdown",
      "source": [
        "## Tratando dataset"
      ],
      "metadata": {
        "id": "bpy6J4tRReAL"
      }
    },
    {
      "cell_type": "code",
      "execution_count": 3,
      "metadata": {
        "colab": {
          "base_uri": "https://localhost:8080/",
          "height": 513
        },
        "id": "2cHoJs6Ggznl",
        "outputId": "c7482af1-3a7a-4a45-f06a-ef2d975e0bb6"
      },
      "outputs": [
        {
          "output_type": "execute_result",
          "data": {
            "text/plain": [
              "   Unnamed: 0  train_id                                 name  \\\n",
              "0           0         0  MLB Cincinnati Reds T Shirt Size XL   \n",
              "1           1         1     Razer BlackWidow Chroma Keyboard   \n",
              "2           2         2                       AVA-VIV Blouse   \n",
              "3           3         3                Leather Horse Statues   \n",
              "4           4         4                 24K GOLD plated rose   \n",
              "\n",
              "   item_condition_id                                      category_name  \\\n",
              "0                  3                                  Men/Tops/T-shirts   \n",
              "1                  3  Electronics/Computers & Tablets/Components & P...   \n",
              "2                  1                        Women/Tops & Blouses/Blouse   \n",
              "3                  1                 Home/Home Décor/Home Décor Accents   \n",
              "4                  1                            Women/Jewelry/Necklaces   \n",
              "\n",
              "  brand_name  price  shipping  \\\n",
              "0        NaN   10.0         1   \n",
              "1      Razer   52.0         0   \n",
              "2     Target   10.0         1   \n",
              "3        NaN   35.0         1   \n",
              "4        NaN   44.0         0   \n",
              "\n",
              "                                    item_description        date  stock  \n",
              "0                                 No description yet   2018-6-18     27  \n",
              "1  This keyboard is in great condition and works ...   2018-3-18     15  \n",
              "2  Adorable top with a hint of lace and a key hol...  2018-10-25     14  \n",
              "3  New with tags. Leather horses. Retail for [rm]...   2018-2-20      1  \n",
              "4          Complete with certificate of authenticity   2018-4-16     13  "
            ],
            "text/html": [
              "\n",
              "  <div id=\"df-a68e03fe-9b53-4df7-a2f8-d5da1a89eeb7\">\n",
              "    <div class=\"colab-df-container\">\n",
              "      <div>\n",
              "<style scoped>\n",
              "    .dataframe tbody tr th:only-of-type {\n",
              "        vertical-align: middle;\n",
              "    }\n",
              "\n",
              "    .dataframe tbody tr th {\n",
              "        vertical-align: top;\n",
              "    }\n",
              "\n",
              "    .dataframe thead th {\n",
              "        text-align: right;\n",
              "    }\n",
              "</style>\n",
              "<table border=\"1\" class=\"dataframe\">\n",
              "  <thead>\n",
              "    <tr style=\"text-align: right;\">\n",
              "      <th></th>\n",
              "      <th>Unnamed: 0</th>\n",
              "      <th>train_id</th>\n",
              "      <th>name</th>\n",
              "      <th>item_condition_id</th>\n",
              "      <th>category_name</th>\n",
              "      <th>brand_name</th>\n",
              "      <th>price</th>\n",
              "      <th>shipping</th>\n",
              "      <th>item_description</th>\n",
              "      <th>date</th>\n",
              "      <th>stock</th>\n",
              "    </tr>\n",
              "  </thead>\n",
              "  <tbody>\n",
              "    <tr>\n",
              "      <th>0</th>\n",
              "      <td>0</td>\n",
              "      <td>0</td>\n",
              "      <td>MLB Cincinnati Reds T Shirt Size XL</td>\n",
              "      <td>3</td>\n",
              "      <td>Men/Tops/T-shirts</td>\n",
              "      <td>NaN</td>\n",
              "      <td>10.0</td>\n",
              "      <td>1</td>\n",
              "      <td>No description yet</td>\n",
              "      <td>2018-6-18</td>\n",
              "      <td>27</td>\n",
              "    </tr>\n",
              "    <tr>\n",
              "      <th>1</th>\n",
              "      <td>1</td>\n",
              "      <td>1</td>\n",
              "      <td>Razer BlackWidow Chroma Keyboard</td>\n",
              "      <td>3</td>\n",
              "      <td>Electronics/Computers &amp; Tablets/Components &amp; P...</td>\n",
              "      <td>Razer</td>\n",
              "      <td>52.0</td>\n",
              "      <td>0</td>\n",
              "      <td>This keyboard is in great condition and works ...</td>\n",
              "      <td>2018-3-18</td>\n",
              "      <td>15</td>\n",
              "    </tr>\n",
              "    <tr>\n",
              "      <th>2</th>\n",
              "      <td>2</td>\n",
              "      <td>2</td>\n",
              "      <td>AVA-VIV Blouse</td>\n",
              "      <td>1</td>\n",
              "      <td>Women/Tops &amp; Blouses/Blouse</td>\n",
              "      <td>Target</td>\n",
              "      <td>10.0</td>\n",
              "      <td>1</td>\n",
              "      <td>Adorable top with a hint of lace and a key hol...</td>\n",
              "      <td>2018-10-25</td>\n",
              "      <td>14</td>\n",
              "    </tr>\n",
              "    <tr>\n",
              "      <th>3</th>\n",
              "      <td>3</td>\n",
              "      <td>3</td>\n",
              "      <td>Leather Horse Statues</td>\n",
              "      <td>1</td>\n",
              "      <td>Home/Home Décor/Home Décor Accents</td>\n",
              "      <td>NaN</td>\n",
              "      <td>35.0</td>\n",
              "      <td>1</td>\n",
              "      <td>New with tags. Leather horses. Retail for [rm]...</td>\n",
              "      <td>2018-2-20</td>\n",
              "      <td>1</td>\n",
              "    </tr>\n",
              "    <tr>\n",
              "      <th>4</th>\n",
              "      <td>4</td>\n",
              "      <td>4</td>\n",
              "      <td>24K GOLD plated rose</td>\n",
              "      <td>1</td>\n",
              "      <td>Women/Jewelry/Necklaces</td>\n",
              "      <td>NaN</td>\n",
              "      <td>44.0</td>\n",
              "      <td>0</td>\n",
              "      <td>Complete with certificate of authenticity</td>\n",
              "      <td>2018-4-16</td>\n",
              "      <td>13</td>\n",
              "    </tr>\n",
              "  </tbody>\n",
              "</table>\n",
              "</div>\n",
              "      <button class=\"colab-df-convert\" onclick=\"convertToInteractive('df-a68e03fe-9b53-4df7-a2f8-d5da1a89eeb7')\"\n",
              "              title=\"Convert this dataframe to an interactive table.\"\n",
              "              style=\"display:none;\">\n",
              "        \n",
              "  <svg xmlns=\"http://www.w3.org/2000/svg\" height=\"24px\"viewBox=\"0 0 24 24\"\n",
              "       width=\"24px\">\n",
              "    <path d=\"M0 0h24v24H0V0z\" fill=\"none\"/>\n",
              "    <path d=\"M18.56 5.44l.94 2.06.94-2.06 2.06-.94-2.06-.94-.94-2.06-.94 2.06-2.06.94zm-11 1L8.5 8.5l.94-2.06 2.06-.94-2.06-.94L8.5 2.5l-.94 2.06-2.06.94zm10 10l.94 2.06.94-2.06 2.06-.94-2.06-.94-.94-2.06-.94 2.06-2.06.94z\"/><path d=\"M17.41 7.96l-1.37-1.37c-.4-.4-.92-.59-1.43-.59-.52 0-1.04.2-1.43.59L10.3 9.45l-7.72 7.72c-.78.78-.78 2.05 0 2.83L4 21.41c.39.39.9.59 1.41.59.51 0 1.02-.2 1.41-.59l7.78-7.78 2.81-2.81c.8-.78.8-2.07 0-2.86zM5.41 20L4 18.59l7.72-7.72 1.47 1.35L5.41 20z\"/>\n",
              "  </svg>\n",
              "      </button>\n",
              "      \n",
              "  <style>\n",
              "    .colab-df-container {\n",
              "      display:flex;\n",
              "      flex-wrap:wrap;\n",
              "      gap: 12px;\n",
              "    }\n",
              "\n",
              "    .colab-df-convert {\n",
              "      background-color: #E8F0FE;\n",
              "      border: none;\n",
              "      border-radius: 50%;\n",
              "      cursor: pointer;\n",
              "      display: none;\n",
              "      fill: #1967D2;\n",
              "      height: 32px;\n",
              "      padding: 0 0 0 0;\n",
              "      width: 32px;\n",
              "    }\n",
              "\n",
              "    .colab-df-convert:hover {\n",
              "      background-color: #E2EBFA;\n",
              "      box-shadow: 0px 1px 2px rgba(60, 64, 67, 0.3), 0px 1px 3px 1px rgba(60, 64, 67, 0.15);\n",
              "      fill: #174EA6;\n",
              "    }\n",
              "\n",
              "    [theme=dark] .colab-df-convert {\n",
              "      background-color: #3B4455;\n",
              "      fill: #D2E3FC;\n",
              "    }\n",
              "\n",
              "    [theme=dark] .colab-df-convert:hover {\n",
              "      background-color: #434B5C;\n",
              "      box-shadow: 0px 1px 3px 1px rgba(0, 0, 0, 0.15);\n",
              "      filter: drop-shadow(0px 1px 2px rgba(0, 0, 0, 0.3));\n",
              "      fill: #FFFFFF;\n",
              "    }\n",
              "  </style>\n",
              "\n",
              "      <script>\n",
              "        const buttonEl =\n",
              "          document.querySelector('#df-a68e03fe-9b53-4df7-a2f8-d5da1a89eeb7 button.colab-df-convert');\n",
              "        buttonEl.style.display =\n",
              "          google.colab.kernel.accessAllowed ? 'block' : 'none';\n",
              "\n",
              "        async function convertToInteractive(key) {\n",
              "          const element = document.querySelector('#df-a68e03fe-9b53-4df7-a2f8-d5da1a89eeb7');\n",
              "          const dataTable =\n",
              "            await google.colab.kernel.invokeFunction('convertToInteractive',\n",
              "                                                     [key], {});\n",
              "          if (!dataTable) return;\n",
              "\n",
              "          const docLinkHtml = 'Like what you see? Visit the ' +\n",
              "            '<a target=\"_blank\" href=https://colab.research.google.com/notebooks/data_table.ipynb>data table notebook</a>'\n",
              "            + ' to learn more about interactive tables.';\n",
              "          element.innerHTML = '';\n",
              "          dataTable['output_type'] = 'display_data';\n",
              "          await google.colab.output.renderOutput(dataTable, element);\n",
              "          const docLink = document.createElement('div');\n",
              "          docLink.innerHTML = docLinkHtml;\n",
              "          element.appendChild(docLink);\n",
              "        }\n",
              "      </script>\n",
              "    </div>\n",
              "  </div>\n",
              "  "
            ]
          },
          "metadata": {},
          "execution_count": 3
        }
      ],
      "source": [
        "df.head()"
      ]
    },
    {
      "cell_type": "code",
      "execution_count": 4,
      "metadata": {
        "colab": {
          "base_uri": "https://localhost:8080/",
          "height": 337
        },
        "id": "V4LH6Srgiju5",
        "outputId": "a366bd8e-048b-419c-f863-b765d7d51fde"
      },
      "outputs": [
        {
          "output_type": "execute_result",
          "data": {
            "text/plain": [
              "                                  name  item_condition_id  \\\n",
              "0  MLB Cincinnati Reds T Shirt Size XL                  3   \n",
              "1     Razer BlackWidow Chroma Keyboard                  3   \n",
              "2                       AVA-VIV Blouse                  1   \n",
              "3                Leather Horse Statues                  1   \n",
              "4                 24K GOLD plated rose                  1   \n",
              "\n",
              "                                       category_name  price  shipping  \\\n",
              "0                                  Men/Tops/T-shirts   10.0         1   \n",
              "1  Electronics/Computers & Tablets/Components & P...   52.0         0   \n",
              "2                        Women/Tops & Blouses/Blouse   10.0         1   \n",
              "3                 Home/Home Décor/Home Décor Accents   35.0         1   \n",
              "4                            Women/Jewelry/Necklaces   44.0         0   \n",
              "\n",
              "                                    item_description  stock  \n",
              "0                                 No description yet     27  \n",
              "1  This keyboard is in great condition and works ...     15  \n",
              "2  Adorable top with a hint of lace and a key hol...     14  \n",
              "3  New with tags. Leather horses. Retail for [rm]...      1  \n",
              "4          Complete with certificate of authenticity     13  "
            ],
            "text/html": [
              "\n",
              "  <div id=\"df-bf2d2501-21e1-4b00-a40b-3f9790220bf1\">\n",
              "    <div class=\"colab-df-container\">\n",
              "      <div>\n",
              "<style scoped>\n",
              "    .dataframe tbody tr th:only-of-type {\n",
              "        vertical-align: middle;\n",
              "    }\n",
              "\n",
              "    .dataframe tbody tr th {\n",
              "        vertical-align: top;\n",
              "    }\n",
              "\n",
              "    .dataframe thead th {\n",
              "        text-align: right;\n",
              "    }\n",
              "</style>\n",
              "<table border=\"1\" class=\"dataframe\">\n",
              "  <thead>\n",
              "    <tr style=\"text-align: right;\">\n",
              "      <th></th>\n",
              "      <th>name</th>\n",
              "      <th>item_condition_id</th>\n",
              "      <th>category_name</th>\n",
              "      <th>price</th>\n",
              "      <th>shipping</th>\n",
              "      <th>item_description</th>\n",
              "      <th>stock</th>\n",
              "    </tr>\n",
              "  </thead>\n",
              "  <tbody>\n",
              "    <tr>\n",
              "      <th>0</th>\n",
              "      <td>MLB Cincinnati Reds T Shirt Size XL</td>\n",
              "      <td>3</td>\n",
              "      <td>Men/Tops/T-shirts</td>\n",
              "      <td>10.0</td>\n",
              "      <td>1</td>\n",
              "      <td>No description yet</td>\n",
              "      <td>27</td>\n",
              "    </tr>\n",
              "    <tr>\n",
              "      <th>1</th>\n",
              "      <td>Razer BlackWidow Chroma Keyboard</td>\n",
              "      <td>3</td>\n",
              "      <td>Electronics/Computers &amp; Tablets/Components &amp; P...</td>\n",
              "      <td>52.0</td>\n",
              "      <td>0</td>\n",
              "      <td>This keyboard is in great condition and works ...</td>\n",
              "      <td>15</td>\n",
              "    </tr>\n",
              "    <tr>\n",
              "      <th>2</th>\n",
              "      <td>AVA-VIV Blouse</td>\n",
              "      <td>1</td>\n",
              "      <td>Women/Tops &amp; Blouses/Blouse</td>\n",
              "      <td>10.0</td>\n",
              "      <td>1</td>\n",
              "      <td>Adorable top with a hint of lace and a key hol...</td>\n",
              "      <td>14</td>\n",
              "    </tr>\n",
              "    <tr>\n",
              "      <th>3</th>\n",
              "      <td>Leather Horse Statues</td>\n",
              "      <td>1</td>\n",
              "      <td>Home/Home Décor/Home Décor Accents</td>\n",
              "      <td>35.0</td>\n",
              "      <td>1</td>\n",
              "      <td>New with tags. Leather horses. Retail for [rm]...</td>\n",
              "      <td>1</td>\n",
              "    </tr>\n",
              "    <tr>\n",
              "      <th>4</th>\n",
              "      <td>24K GOLD plated rose</td>\n",
              "      <td>1</td>\n",
              "      <td>Women/Jewelry/Necklaces</td>\n",
              "      <td>44.0</td>\n",
              "      <td>0</td>\n",
              "      <td>Complete with certificate of authenticity</td>\n",
              "      <td>13</td>\n",
              "    </tr>\n",
              "  </tbody>\n",
              "</table>\n",
              "</div>\n",
              "      <button class=\"colab-df-convert\" onclick=\"convertToInteractive('df-bf2d2501-21e1-4b00-a40b-3f9790220bf1')\"\n",
              "              title=\"Convert this dataframe to an interactive table.\"\n",
              "              style=\"display:none;\">\n",
              "        \n",
              "  <svg xmlns=\"http://www.w3.org/2000/svg\" height=\"24px\"viewBox=\"0 0 24 24\"\n",
              "       width=\"24px\">\n",
              "    <path d=\"M0 0h24v24H0V0z\" fill=\"none\"/>\n",
              "    <path d=\"M18.56 5.44l.94 2.06.94-2.06 2.06-.94-2.06-.94-.94-2.06-.94 2.06-2.06.94zm-11 1L8.5 8.5l.94-2.06 2.06-.94-2.06-.94L8.5 2.5l-.94 2.06-2.06.94zm10 10l.94 2.06.94-2.06 2.06-.94-2.06-.94-.94-2.06-.94 2.06-2.06.94z\"/><path d=\"M17.41 7.96l-1.37-1.37c-.4-.4-.92-.59-1.43-.59-.52 0-1.04.2-1.43.59L10.3 9.45l-7.72 7.72c-.78.78-.78 2.05 0 2.83L4 21.41c.39.39.9.59 1.41.59.51 0 1.02-.2 1.41-.59l7.78-7.78 2.81-2.81c.8-.78.8-2.07 0-2.86zM5.41 20L4 18.59l7.72-7.72 1.47 1.35L5.41 20z\"/>\n",
              "  </svg>\n",
              "      </button>\n",
              "      \n",
              "  <style>\n",
              "    .colab-df-container {\n",
              "      display:flex;\n",
              "      flex-wrap:wrap;\n",
              "      gap: 12px;\n",
              "    }\n",
              "\n",
              "    .colab-df-convert {\n",
              "      background-color: #E8F0FE;\n",
              "      border: none;\n",
              "      border-radius: 50%;\n",
              "      cursor: pointer;\n",
              "      display: none;\n",
              "      fill: #1967D2;\n",
              "      height: 32px;\n",
              "      padding: 0 0 0 0;\n",
              "      width: 32px;\n",
              "    }\n",
              "\n",
              "    .colab-df-convert:hover {\n",
              "      background-color: #E2EBFA;\n",
              "      box-shadow: 0px 1px 2px rgba(60, 64, 67, 0.3), 0px 1px 3px 1px rgba(60, 64, 67, 0.15);\n",
              "      fill: #174EA6;\n",
              "    }\n",
              "\n",
              "    [theme=dark] .colab-df-convert {\n",
              "      background-color: #3B4455;\n",
              "      fill: #D2E3FC;\n",
              "    }\n",
              "\n",
              "    [theme=dark] .colab-df-convert:hover {\n",
              "      background-color: #434B5C;\n",
              "      box-shadow: 0px 1px 3px 1px rgba(0, 0, 0, 0.15);\n",
              "      filter: drop-shadow(0px 1px 2px rgba(0, 0, 0, 0.3));\n",
              "      fill: #FFFFFF;\n",
              "    }\n",
              "  </style>\n",
              "\n",
              "      <script>\n",
              "        const buttonEl =\n",
              "          document.querySelector('#df-bf2d2501-21e1-4b00-a40b-3f9790220bf1 button.colab-df-convert');\n",
              "        buttonEl.style.display =\n",
              "          google.colab.kernel.accessAllowed ? 'block' : 'none';\n",
              "\n",
              "        async function convertToInteractive(key) {\n",
              "          const element = document.querySelector('#df-bf2d2501-21e1-4b00-a40b-3f9790220bf1');\n",
              "          const dataTable =\n",
              "            await google.colab.kernel.invokeFunction('convertToInteractive',\n",
              "                                                     [key], {});\n",
              "          if (!dataTable) return;\n",
              "\n",
              "          const docLinkHtml = 'Like what you see? Visit the ' +\n",
              "            '<a target=\"_blank\" href=https://colab.research.google.com/notebooks/data_table.ipynb>data table notebook</a>'\n",
              "            + ' to learn more about interactive tables.';\n",
              "          element.innerHTML = '';\n",
              "          dataTable['output_type'] = 'display_data';\n",
              "          await google.colab.output.renderOutput(dataTable, element);\n",
              "          const docLink = document.createElement('div');\n",
              "          docLink.innerHTML = docLinkHtml;\n",
              "          element.appendChild(docLink);\n",
              "        }\n",
              "      </script>\n",
              "    </div>\n",
              "  </div>\n",
              "  "
            ]
          },
          "metadata": {},
          "execution_count": 4
        }
      ],
      "source": [
        "df = df.drop(['Unnamed: 0','train_id','brand_name', 'date'], axis=1)\n",
        "df.head()"
      ]
    },
    {
      "cell_type": "code",
      "execution_count": 5,
      "metadata": {
        "colab": {
          "base_uri": "https://localhost:8080/"
        },
        "id": "LhII5p4ZC15z",
        "outputId": "8bc6f27a-8720-4449-fe63-2a70f47ec78c"
      },
      "outputs": [
        {
          "output_type": "execute_result",
          "data": {
            "text/plain": [
              "Index(['name', 'item_condition_id', 'price', 'shipping', 'item_description',\n",
              "       'stock', 'main_cat', 'sub_cat_1', 'sub_cat_2'],\n",
              "      dtype='object')"
            ]
          },
          "metadata": {},
          "execution_count": 5
        }
      ],
      "source": [
        "# dividindo as categorias em colunas\n",
        "categories = df.category_name.str.split('/', expand=True)\n",
        "categories.columns = ['main_cat', 'sub_cat_1', 'sub_cat_2', 'sub_cat_3', 'sub_cat_4']\n",
        "\n",
        "df = pd.concat([df, categories], axis=1)\n",
        "df.drop(['category_name', 'sub_cat_3', 'sub_cat_4'], axis=1, inplace=True)\n",
        "\n",
        "df.columns"
      ]
    },
    {
      "cell_type": "code",
      "source": [
        "df.shape"
      ],
      "metadata": {
        "colab": {
          "base_uri": "https://localhost:8080/"
        },
        "id": "oO8ftFK4UOZQ",
        "outputId": "d131b2f0-8b29-4d47-854b-7f5bb23f2e44"
      },
      "execution_count": 6,
      "outputs": [
        {
          "output_type": "execute_result",
          "data": {
            "text/plain": [
              "(1482535, 9)"
            ]
          },
          "metadata": {},
          "execution_count": 6
        }
      ]
    },
    {
      "cell_type": "markdown",
      "source": [
        "Verificando se existem valores faltantes dentro do dataset. O metodo info() será o primeiro passo para uma ideia geral dos dados do dataset."
      ],
      "metadata": {
        "id": "uWA4bHr_UUfQ"
      }
    },
    {
      "cell_type": "code",
      "source": [
        "df.info()"
      ],
      "metadata": {
        "colab": {
          "base_uri": "https://localhost:8080/"
        },
        "id": "nIvsJct2UJmR",
        "outputId": "4ade803c-67d7-4b11-ae57-050ca1e652a1"
      },
      "execution_count": 7,
      "outputs": [
        {
          "output_type": "stream",
          "name": "stdout",
          "text": [
            "<class 'pandas.core.frame.DataFrame'>\n",
            "RangeIndex: 1482535 entries, 0 to 1482534\n",
            "Data columns (total 9 columns):\n",
            " #   Column             Non-Null Count    Dtype  \n",
            "---  ------             --------------    -----  \n",
            " 0   name               1482535 non-null  object \n",
            " 1   item_condition_id  1482535 non-null  int64  \n",
            " 2   price              1482535 non-null  float64\n",
            " 3   shipping           1482535 non-null  int64  \n",
            " 4   item_description   1482531 non-null  object \n",
            " 5   stock              1482535 non-null  int64  \n",
            " 6   main_cat           1476208 non-null  object \n",
            " 7   sub_cat_1          1476208 non-null  object \n",
            " 8   sub_cat_2          1476208 non-null  object \n",
            "dtypes: float64(1), int64(3), object(5)\n",
            "memory usage: 101.8+ MB\n"
          ]
        }
      ]
    },
    {
      "cell_type": "markdown",
      "source": [
        "Foram identificados algumas valores faltantes nas colunas de categoria. O metodo isna() junto com sum() irá mostrar a soma desses valores por coluna."
      ],
      "metadata": {
        "id": "5Gc0x-ugUtxZ"
      }
    },
    {
      "cell_type": "code",
      "source": [
        "df.isna().sum()"
      ],
      "metadata": {
        "colab": {
          "base_uri": "https://localhost:8080/"
        },
        "id": "bX1kc-fIRuvD",
        "outputId": "b71bf7bd-dc56-4902-a816-892b7aed7e2f"
      },
      "execution_count": 8,
      "outputs": [
        {
          "output_type": "execute_result",
          "data": {
            "text/plain": [
              "name                    0\n",
              "item_condition_id       0\n",
              "price                   0\n",
              "shipping                0\n",
              "item_description        4\n",
              "stock                   0\n",
              "main_cat             6327\n",
              "sub_cat_1            6327\n",
              "sub_cat_2            6327\n",
              "dtype: int64"
            ]
          },
          "metadata": {},
          "execution_count": 8
        }
      ]
    },
    {
      "cell_type": "markdown",
      "source": [
        "Acho interessante focar em uma categoria para saber a proporção desses valores faltantes em relação ao numero total de linhas da coluna."
      ],
      "metadata": {
        "id": "sOtAZ1g9VZS5"
      }
    },
    {
      "cell_type": "code",
      "source": [
        "df['main_cat'].isna().value_counts(normalize = True).mul(100).round(1).astype(str) + '%' # Frequencias relativas"
      ],
      "metadata": {
        "colab": {
          "base_uri": "https://localhost:8080/"
        },
        "id": "hP_t6CO1S09J",
        "outputId": "97be86cc-b77a-4dcd-fe95-615102c0bd66"
      },
      "execution_count": 9,
      "outputs": [
        {
          "output_type": "execute_result",
          "data": {
            "text/plain": [
              "False    99.6%\n",
              "True      0.4%\n",
              "Name: main_cat, dtype: object"
            ]
          },
          "metadata": {},
          "execution_count": 9
        }
      ]
    },
    {
      "cell_type": "markdown",
      "source": [
        "Observando a frequencia relativa dos valores faltantes da principal categoria, é notavel que existe uma proporção muito baixa em relação ao total. Será interessante olhar mais de perto as linhas que possuem esses dados faltantes."
      ],
      "metadata": {
        "id": "qAU-jdwqVlVP"
      }
    },
    {
      "cell_type": "code",
      "source": [
        "valores_faltantes = df[df['main_cat'].isna()]\n",
        "valores_faltantes\n",
        "\n"
      ],
      "metadata": {
        "colab": {
          "base_uri": "https://localhost:8080/",
          "height": 745
        },
        "id": "pfmN68H9WrRo",
        "outputId": "3b8c9136-3854-47a9-88d6-81cc9f1711e1"
      },
      "execution_count": 10,
      "outputs": [
        {
          "output_type": "execute_result",
          "data": {
            "text/plain": [
              "                                             name  item_condition_id  price  \\\n",
              "122                                        Bundle                  3   59.0   \n",
              "155                          3 Nora Roberts Books                  3   10.0   \n",
              "258                                   ACER Laptop                  5   14.0   \n",
              "984      AUTHENTIC BRWN MICHAEL KORS MAKEUP STAIN                  4   18.0   \n",
              "1185      Teenage Mutant Ninja Turtle Van/ Extras                  3    9.0   \n",
              "...                                           ...                ...    ...   \n",
              "1481249                 Only For Erin. Do Not Buy                  3   31.0   \n",
              "1481750                   American Eagle Jeggings                  2   17.0   \n",
              "1482252                   Bundle For All Honey :)                  3   40.0   \n",
              "1482443   HOLD 14g Purple Prong Nipple Bars Rings                  1   22.0   \n",
              "1482473                         Puma Suede Emboss                  2   30.0   \n",
              "\n",
              "         shipping                                   item_description  stock  \\\n",
              "122             0  Sizes and info of clothes can be found on thei...     25   \n",
              "155             1                                       For aferg16.      2   \n",
              "258             0  Powers on, no screen display, no external dama...      1   \n",
              "984             0                                 No description yet      6   \n",
              "1185            0  Teenage Mutant Ninja Turtle Van, April O'Neil ...      9   \n",
              "...           ...                                                ...    ...   \n",
              "1481249         0                                 No description yet     13   \n",
              "1481750         0                       Worn a couple of time Size 4      5   \n",
              "1482252         0                                 No description yet      1   \n",
              "1482443         1  14g Purple Prong Set Nipple Bars Rings [surgic...     17   \n",
              "1482473         1                    Worn Once!!! Great condition!!!     16   \n",
              "\n",
              "        main_cat sub_cat_1 sub_cat_2  \n",
              "122          NaN       NaN       NaN  \n",
              "155          NaN       NaN       NaN  \n",
              "258          NaN       NaN       NaN  \n",
              "984          NaN       NaN       NaN  \n",
              "1185         NaN       NaN       NaN  \n",
              "...          ...       ...       ...  \n",
              "1481249      NaN       NaN       NaN  \n",
              "1481750      NaN       NaN       NaN  \n",
              "1482252      NaN       NaN       NaN  \n",
              "1482443      NaN       NaN       NaN  \n",
              "1482473      NaN       NaN       NaN  \n",
              "\n",
              "[6327 rows x 9 columns]"
            ],
            "text/html": [
              "\n",
              "  <div id=\"df-fac62423-10ec-4c89-bce6-f6122358740e\">\n",
              "    <div class=\"colab-df-container\">\n",
              "      <div>\n",
              "<style scoped>\n",
              "    .dataframe tbody tr th:only-of-type {\n",
              "        vertical-align: middle;\n",
              "    }\n",
              "\n",
              "    .dataframe tbody tr th {\n",
              "        vertical-align: top;\n",
              "    }\n",
              "\n",
              "    .dataframe thead th {\n",
              "        text-align: right;\n",
              "    }\n",
              "</style>\n",
              "<table border=\"1\" class=\"dataframe\">\n",
              "  <thead>\n",
              "    <tr style=\"text-align: right;\">\n",
              "      <th></th>\n",
              "      <th>name</th>\n",
              "      <th>item_condition_id</th>\n",
              "      <th>price</th>\n",
              "      <th>shipping</th>\n",
              "      <th>item_description</th>\n",
              "      <th>stock</th>\n",
              "      <th>main_cat</th>\n",
              "      <th>sub_cat_1</th>\n",
              "      <th>sub_cat_2</th>\n",
              "    </tr>\n",
              "  </thead>\n",
              "  <tbody>\n",
              "    <tr>\n",
              "      <th>122</th>\n",
              "      <td>Bundle</td>\n",
              "      <td>3</td>\n",
              "      <td>59.0</td>\n",
              "      <td>0</td>\n",
              "      <td>Sizes and info of clothes can be found on thei...</td>\n",
              "      <td>25</td>\n",
              "      <td>NaN</td>\n",
              "      <td>NaN</td>\n",
              "      <td>NaN</td>\n",
              "    </tr>\n",
              "    <tr>\n",
              "      <th>155</th>\n",
              "      <td>3 Nora Roberts Books</td>\n",
              "      <td>3</td>\n",
              "      <td>10.0</td>\n",
              "      <td>1</td>\n",
              "      <td>For aferg16.</td>\n",
              "      <td>2</td>\n",
              "      <td>NaN</td>\n",
              "      <td>NaN</td>\n",
              "      <td>NaN</td>\n",
              "    </tr>\n",
              "    <tr>\n",
              "      <th>258</th>\n",
              "      <td>ACER Laptop</td>\n",
              "      <td>5</td>\n",
              "      <td>14.0</td>\n",
              "      <td>0</td>\n",
              "      <td>Powers on, no screen display, no external dama...</td>\n",
              "      <td>1</td>\n",
              "      <td>NaN</td>\n",
              "      <td>NaN</td>\n",
              "      <td>NaN</td>\n",
              "    </tr>\n",
              "    <tr>\n",
              "      <th>984</th>\n",
              "      <td>AUTHENTIC BRWN MICHAEL KORS MAKEUP STAIN</td>\n",
              "      <td>4</td>\n",
              "      <td>18.0</td>\n",
              "      <td>0</td>\n",
              "      <td>No description yet</td>\n",
              "      <td>6</td>\n",
              "      <td>NaN</td>\n",
              "      <td>NaN</td>\n",
              "      <td>NaN</td>\n",
              "    </tr>\n",
              "    <tr>\n",
              "      <th>1185</th>\n",
              "      <td>Teenage Mutant Ninja Turtle Van/ Extras</td>\n",
              "      <td>3</td>\n",
              "      <td>9.0</td>\n",
              "      <td>0</td>\n",
              "      <td>Teenage Mutant Ninja Turtle Van, April O'Neil ...</td>\n",
              "      <td>9</td>\n",
              "      <td>NaN</td>\n",
              "      <td>NaN</td>\n",
              "      <td>NaN</td>\n",
              "    </tr>\n",
              "    <tr>\n",
              "      <th>...</th>\n",
              "      <td>...</td>\n",
              "      <td>...</td>\n",
              "      <td>...</td>\n",
              "      <td>...</td>\n",
              "      <td>...</td>\n",
              "      <td>...</td>\n",
              "      <td>...</td>\n",
              "      <td>...</td>\n",
              "      <td>...</td>\n",
              "    </tr>\n",
              "    <tr>\n",
              "      <th>1481249</th>\n",
              "      <td>Only For Erin. Do Not Buy</td>\n",
              "      <td>3</td>\n",
              "      <td>31.0</td>\n",
              "      <td>0</td>\n",
              "      <td>No description yet</td>\n",
              "      <td>13</td>\n",
              "      <td>NaN</td>\n",
              "      <td>NaN</td>\n",
              "      <td>NaN</td>\n",
              "    </tr>\n",
              "    <tr>\n",
              "      <th>1481750</th>\n",
              "      <td>American Eagle Jeggings</td>\n",
              "      <td>2</td>\n",
              "      <td>17.0</td>\n",
              "      <td>0</td>\n",
              "      <td>Worn a couple of time Size 4</td>\n",
              "      <td>5</td>\n",
              "      <td>NaN</td>\n",
              "      <td>NaN</td>\n",
              "      <td>NaN</td>\n",
              "    </tr>\n",
              "    <tr>\n",
              "      <th>1482252</th>\n",
              "      <td>Bundle For All Honey :)</td>\n",
              "      <td>3</td>\n",
              "      <td>40.0</td>\n",
              "      <td>0</td>\n",
              "      <td>No description yet</td>\n",
              "      <td>1</td>\n",
              "      <td>NaN</td>\n",
              "      <td>NaN</td>\n",
              "      <td>NaN</td>\n",
              "    </tr>\n",
              "    <tr>\n",
              "      <th>1482443</th>\n",
              "      <td>HOLD 14g Purple Prong Nipple Bars Rings</td>\n",
              "      <td>1</td>\n",
              "      <td>22.0</td>\n",
              "      <td>1</td>\n",
              "      <td>14g Purple Prong Set Nipple Bars Rings [surgic...</td>\n",
              "      <td>17</td>\n",
              "      <td>NaN</td>\n",
              "      <td>NaN</td>\n",
              "      <td>NaN</td>\n",
              "    </tr>\n",
              "    <tr>\n",
              "      <th>1482473</th>\n",
              "      <td>Puma Suede Emboss</td>\n",
              "      <td>2</td>\n",
              "      <td>30.0</td>\n",
              "      <td>1</td>\n",
              "      <td>Worn Once!!! Great condition!!!</td>\n",
              "      <td>16</td>\n",
              "      <td>NaN</td>\n",
              "      <td>NaN</td>\n",
              "      <td>NaN</td>\n",
              "    </tr>\n",
              "  </tbody>\n",
              "</table>\n",
              "<p>6327 rows × 9 columns</p>\n",
              "</div>\n",
              "      <button class=\"colab-df-convert\" onclick=\"convertToInteractive('df-fac62423-10ec-4c89-bce6-f6122358740e')\"\n",
              "              title=\"Convert this dataframe to an interactive table.\"\n",
              "              style=\"display:none;\">\n",
              "        \n",
              "  <svg xmlns=\"http://www.w3.org/2000/svg\" height=\"24px\"viewBox=\"0 0 24 24\"\n",
              "       width=\"24px\">\n",
              "    <path d=\"M0 0h24v24H0V0z\" fill=\"none\"/>\n",
              "    <path d=\"M18.56 5.44l.94 2.06.94-2.06 2.06-.94-2.06-.94-.94-2.06-.94 2.06-2.06.94zm-11 1L8.5 8.5l.94-2.06 2.06-.94-2.06-.94L8.5 2.5l-.94 2.06-2.06.94zm10 10l.94 2.06.94-2.06 2.06-.94-2.06-.94-.94-2.06-.94 2.06-2.06.94z\"/><path d=\"M17.41 7.96l-1.37-1.37c-.4-.4-.92-.59-1.43-.59-.52 0-1.04.2-1.43.59L10.3 9.45l-7.72 7.72c-.78.78-.78 2.05 0 2.83L4 21.41c.39.39.9.59 1.41.59.51 0 1.02-.2 1.41-.59l7.78-7.78 2.81-2.81c.8-.78.8-2.07 0-2.86zM5.41 20L4 18.59l7.72-7.72 1.47 1.35L5.41 20z\"/>\n",
              "  </svg>\n",
              "      </button>\n",
              "      \n",
              "  <style>\n",
              "    .colab-df-container {\n",
              "      display:flex;\n",
              "      flex-wrap:wrap;\n",
              "      gap: 12px;\n",
              "    }\n",
              "\n",
              "    .colab-df-convert {\n",
              "      background-color: #E8F0FE;\n",
              "      border: none;\n",
              "      border-radius: 50%;\n",
              "      cursor: pointer;\n",
              "      display: none;\n",
              "      fill: #1967D2;\n",
              "      height: 32px;\n",
              "      padding: 0 0 0 0;\n",
              "      width: 32px;\n",
              "    }\n",
              "\n",
              "    .colab-df-convert:hover {\n",
              "      background-color: #E2EBFA;\n",
              "      box-shadow: 0px 1px 2px rgba(60, 64, 67, 0.3), 0px 1px 3px 1px rgba(60, 64, 67, 0.15);\n",
              "      fill: #174EA6;\n",
              "    }\n",
              "\n",
              "    [theme=dark] .colab-df-convert {\n",
              "      background-color: #3B4455;\n",
              "      fill: #D2E3FC;\n",
              "    }\n",
              "\n",
              "    [theme=dark] .colab-df-convert:hover {\n",
              "      background-color: #434B5C;\n",
              "      box-shadow: 0px 1px 3px 1px rgba(0, 0, 0, 0.15);\n",
              "      filter: drop-shadow(0px 1px 2px rgba(0, 0, 0, 0.3));\n",
              "      fill: #FFFFFF;\n",
              "    }\n",
              "  </style>\n",
              "\n",
              "      <script>\n",
              "        const buttonEl =\n",
              "          document.querySelector('#df-fac62423-10ec-4c89-bce6-f6122358740e button.colab-df-convert');\n",
              "        buttonEl.style.display =\n",
              "          google.colab.kernel.accessAllowed ? 'block' : 'none';\n",
              "\n",
              "        async function convertToInteractive(key) {\n",
              "          const element = document.querySelector('#df-fac62423-10ec-4c89-bce6-f6122358740e');\n",
              "          const dataTable =\n",
              "            await google.colab.kernel.invokeFunction('convertToInteractive',\n",
              "                                                     [key], {});\n",
              "          if (!dataTable) return;\n",
              "\n",
              "          const docLinkHtml = 'Like what you see? Visit the ' +\n",
              "            '<a target=\"_blank\" href=https://colab.research.google.com/notebooks/data_table.ipynb>data table notebook</a>'\n",
              "            + ' to learn more about interactive tables.';\n",
              "          element.innerHTML = '';\n",
              "          dataTable['output_type'] = 'display_data';\n",
              "          await google.colab.output.renderOutput(dataTable, element);\n",
              "          const docLink = document.createElement('div');\n",
              "          docLink.innerHTML = docLinkHtml;\n",
              "          element.appendChild(docLink);\n",
              "        }\n",
              "      </script>\n",
              "    </div>\n",
              "  </div>\n",
              "  "
            ]
          },
          "metadata": {},
          "execution_count": 10
        }
      ]
    },
    {
      "cell_type": "markdown",
      "source": [
        "As três colunas que possuem valores faltantes são correspondentes nas 6327 linhas com NaN. Por ser um numero proporcionalmente muito baixo e por coincidirem, irei remover os valores faltantes."
      ],
      "metadata": {
        "id": "xKzP1LGZk_mS"
      }
    },
    {
      "cell_type": "code",
      "source": [
        "df.dropna(inplace=True) # removendo todos os valores NaN do dataset\n",
        "df.isna().sum()"
      ],
      "metadata": {
        "colab": {
          "base_uri": "https://localhost:8080/"
        },
        "id": "KOCIOmKRf2qG",
        "outputId": "e4b2edff-41aa-459f-909c-27ace7ef8198"
      },
      "execution_count": 11,
      "outputs": [
        {
          "output_type": "execute_result",
          "data": {
            "text/plain": [
              "name                 0\n",
              "item_condition_id    0\n",
              "price                0\n",
              "shipping             0\n",
              "item_description     0\n",
              "stock                0\n",
              "main_cat             0\n",
              "sub_cat_1            0\n",
              "sub_cat_2            0\n",
              "dtype: int64"
            ]
          },
          "metadata": {},
          "execution_count": 11
        }
      ]
    },
    {
      "cell_type": "markdown",
      "metadata": {
        "id": "z35ibeOjf26k"
      },
      "source": [
        "## Modelagem para regressão"
      ]
    },
    {
      "cell_type": "code",
      "source": [
        "plt.figure(figsize=(10,6), dpi=80)\n",
        "sns.heatmap(df.corr(), cmap='Blues', annot=True)\n",
        "plt.title('Correlações')\n",
        "plt.show()"
      ],
      "metadata": {
        "colab": {
          "base_uri": "https://localhost:8080/",
          "height": 430
        },
        "id": "zJ-s3l4kmvho",
        "outputId": "017e2edf-53c5-4a84-c2d3-bc5f6718fb8b"
      },
      "execution_count": 12,
      "outputs": [
        {
          "output_type": "display_data",
          "data": {
            "text/plain": [
              "<Figure size 800x480 with 2 Axes>"
            ],
            "image/png": "[encoded data removed]"
          },
          "metadata": {
            "needs_background": "light"
          }
        }
      ]
    },
    {
      "cell_type": "markdown",
      "source": [
        "Como foi observado no mapa de calor, o dataset possui pouca ou quase nenhuma correlação entre as variaveis numericas. Seria interessante transformar as variaveis categorias em variaveis numericas e observar novamente as correlações; além de também aplicar um modelo de regressão nesses dados transformados. Para isso irei utilizar um metodo de codificação booleano chamado get_dummie. \n",
        "\n"
      ],
      "metadata": {
        "id": "A4kaKkajmMmQ"
      }
    },
    {
      "cell_type": "code",
      "source": [
        "df_temp =  pd.get_dummies(df[['main_cat','sub_cat_1','sub_cat_2']])"
      ],
      "metadata": {
        "id": "wM-7nUQEnIxo"
      },
      "execution_count": 13,
      "outputs": []
    },
    {
      "cell_type": "code",
      "source": [
        "df_temp.shape"
      ],
      "metadata": {
        "colab": {
          "base_uri": "https://localhost:8080/"
        },
        "id": "hYip6Lyko5UG",
        "outputId": "9aa1193e-dbc6-4dd3-a420-8e57452fe081"
      },
      "execution_count": 14,
      "outputs": [
        {
          "output_type": "execute_result",
          "data": {
            "text/plain": [
              "(1476204, 993)"
            ]
          },
          "metadata": {},
          "execution_count": 14
        }
      ]
    },
    {
      "cell_type": "markdown",
      "source": [
        "A transformação das variaveis aumentou consideravelmente a dimensionalidade do dataset. Para tentar contornar esse problema, vou aplicar um PCA para tentar diminuir a dimencionalidade."
      ],
      "metadata": {
        "id": "NwFC9QQbpH0a"
      }
    },
    {
      "cell_type": "code",
      "source": [
        "from sklearn.decomposition import PCA, IncrementalPCA"
      ],
      "metadata": {
        "id": "pRbJoNcCp6DY"
      },
      "execution_count": 15,
      "outputs": []
    },
    {
      "cell_type": "code",
      "source": [
        "x = df_temp"
      ],
      "metadata": {
        "id": "melyO_O8vxxX"
      },
      "execution_count": 16,
      "outputs": []
    },
    {
      "cell_type": "code",
      "source": [
        "df_temp.head()"
      ],
      "metadata": {
        "colab": {
          "base_uri": "https://localhost:8080/",
          "height": 317
        },
        "id": "gfO5D1Wj_SXR",
        "outputId": "1d416034-e9bd-4de8-a502-2815dc8c168a"
      },
      "execution_count": 21,
      "outputs": [
        {
          "output_type": "execute_result",
          "data": {
            "text/plain": [
              "   main_cat_Beauty  main_cat_Electronics  main_cat_Handmade  main_cat_Home  \\\n",
              "0                0                     0                  0              0   \n",
              "1                0                     1                  0              0   \n",
              "2                0                     0                  0              0   \n",
              "3                0                     0                  0              1   \n",
              "4                0                     0                  0              0   \n",
              "\n",
              "   main_cat_Kids  main_cat_Men  main_cat_Other  main_cat_Sports & Outdoors  \\\n",
              "0              0             1               0                           0   \n",
              "1              0             0               0                           0   \n",
              "2              0             0               0                           0   \n",
              "3              0             0               0                           0   \n",
              "4              0             0               0                           0   \n",
              "\n",
              "   main_cat_Vintage & Collectibles  main_cat_Women  ...  \\\n",
              "0                                0               0  ...   \n",
              "1                                0               0  ...   \n",
              "2                                0               1  ...   \n",
              "3                                0               0  ...   \n",
              "4                                0               1  ...   \n",
              "\n",
              "   sub_cat_2_Women's Golf Clubs  sub_cat_2_Wool  sub_cat_2_Work & Safety  \\\n",
              "0                             0               0                        0   \n",
              "1                             0               0                        0   \n",
              "2                             0               0                        0   \n",
              "3                             0               0                        0   \n",
              "4                             0               0                        0   \n",
              "\n",
              "   sub_cat_2_Wrap  sub_cat_2_Wristlet  sub_cat_2_Writing  sub_cat_2_Yarn  \\\n",
              "0               0                   0                  0               0   \n",
              "1               0                   0                  0               0   \n",
              "2               0                   0                  0               0   \n",
              "3               0                   0                  0               0   \n",
              "4               0                   0                  0               0   \n",
              "\n",
              "   sub_cat_2_Yoga & Pilates  sub_cat_2_Zipper  sub_cat_2_iPad  \n",
              "0                         0                 0               0  \n",
              "1                         0                 0               0  \n",
              "2                         0                 0               0  \n",
              "3                         0                 0               0  \n",
              "4                         0                 0               0  \n",
              "\n",
              "[5 rows x 993 columns]"
            ],
            "text/html": [
              "\n",
              "  <div id=\"df-19b63799-3535-4930-9d8b-c35a76075ce7\">\n",
              "    <div class=\"colab-df-container\">\n",
              "      <div>\n",
              "<style scoped>\n",
              "    .dataframe tbody tr th:only-of-type {\n",
              "        vertical-align: middle;\n",
              "    }\n",
              "\n",
              "    .dataframe tbody tr th {\n",
              "        vertical-align: top;\n",
              "    }\n",
              "\n",
              "    .dataframe thead th {\n",
              "        text-align: right;\n",
              "    }\n",
              "</style>\n",
              "<table border=\"1\" class=\"dataframe\">\n",
              "  <thead>\n",
              "    <tr style=\"text-align: right;\">\n",
              "      <th></th>\n",
              "      <th>main_cat_Beauty</th>\n",
              "      <th>main_cat_Electronics</th>\n",
              "      <th>main_cat_Handmade</th>\n",
              "      <th>main_cat_Home</th>\n",
              "      <th>main_cat_Kids</th>\n",
              "      <th>main_cat_Men</th>\n",
              "      <th>main_cat_Other</th>\n",
              "      <th>main_cat_Sports &amp; Outdoors</th>\n",
              "      <th>main_cat_Vintage &amp; Collectibles</th>\n",
              "      <th>main_cat_Women</th>\n",
              "      <th>...</th>\n",
              "      <th>sub_cat_2_Women's Golf Clubs</th>\n",
              "      <th>sub_cat_2_Wool</th>\n",
              "      <th>sub_cat_2_Work &amp; Safety</th>\n",
              "      <th>sub_cat_2_Wrap</th>\n",
              "      <th>sub_cat_2_Wristlet</th>\n",
              "      <th>sub_cat_2_Writing</th>\n",
              "      <th>sub_cat_2_Yarn</th>\n",
              "      <th>sub_cat_2_Yoga &amp; Pilates</th>\n",
              "      <th>sub_cat_2_Zipper</th>\n",
              "      <th>sub_cat_2_iPad</th>\n",
              "    </tr>\n",
              "  </thead>\n",
              "  <tbody>\n",
              "    <tr>\n",
              "      <th>0</th>\n",
              "      <td>0</td>\n",
              "      <td>0</td>\n",
              "      <td>0</td>\n",
              "      <td>0</td>\n",
              "      <td>0</td>\n",
              "      <td>1</td>\n",
              "      <td>0</td>\n",
              "      <td>0</td>\n",
              "      <td>0</td>\n",
              "      <td>0</td>\n",
              "      <td>...</td>\n",
              "      <td>0</td>\n",
              "      <td>0</td>\n",
              "      <td>0</td>\n",
              "      <td>0</td>\n",
              "      <td>0</td>\n",
              "      <td>0</td>\n",
              "      <td>0</td>\n",
              "      <td>0</td>\n",
              "      <td>0</td>\n",
              "      <td>0</td>\n",
              "    </tr>\n",
              "    <tr>\n",
              "      <th>1</th>\n",
              "      <td>0</td>\n",
              "      <td>1</td>\n",
              "      <td>0</td>\n",
              "      <td>0</td>\n",
              "      <td>0</td>\n",
              "      <td>0</td>\n",
              "      <td>0</td>\n",
              "      <td>0</td>\n",
              "      <td>0</td>\n",
              "      <td>0</td>\n",
              "      <td>...</td>\n",
              "      <td>0</td>\n",
              "      <td>0</td>\n",
              "      <td>0</td>\n",
              "      <td>0</td>\n",
              "      <td>0</td>\n",
              "      <td>0</td>\n",
              "      <td>0</td>\n",
              "      <td>0</td>\n",
              "      <td>0</td>\n",
              "      <td>0</td>\n",
              "    </tr>\n",
              "    <tr>\n",
              "      <th>2</th>\n",
              "      <td>0</td>\n",
              "      <td>0</td>\n",
              "      <td>0</td>\n",
              "      <td>0</td>\n",
              "      <td>0</td>\n",
              "      <td>0</td>\n",
              "      <td>0</td>\n",
              "      <td>0</td>\n",
              "      <td>0</td>\n",
              "      <td>1</td>\n",
              "      <td>...</td>\n",
              "      <td>0</td>\n",
              "      <td>0</td>\n",
              "      <td>0</td>\n",
              "      <td>0</td>\n",
              "      <td>0</td>\n",
              "      <td>0</td>\n",
              "      <td>0</td>\n",
              "      <td>0</td>\n",
              "      <td>0</td>\n",
              "      <td>0</td>\n",
              "    </tr>\n",
              "    <tr>\n",
              "      <th>3</th>\n",
              "      <td>0</td>\n",
              "      <td>0</td>\n",
              "      <td>0</td>\n",
              "      <td>1</td>\n",
              "      <td>0</td>\n",
              "      <td>0</td>\n",
              "      <td>0</td>\n",
              "      <td>0</td>\n",
              "      <td>0</td>\n",
              "      <td>0</td>\n",
              "      <td>...</td>\n",
              "      <td>0</td>\n",
              "      <td>0</td>\n",
              "      <td>0</td>\n",
              "      <td>0</td>\n",
              "      <td>0</td>\n",
              "      <td>0</td>\n",
              "      <td>0</td>\n",
              "      <td>0</td>\n",
              "      <td>0</td>\n",
              "      <td>0</td>\n",
              "    </tr>\n",
              "    <tr>\n",
              "      <th>4</th>\n",
              "      <td>0</td>\n",
              "      <td>0</td>\n",
              "      <td>0</td>\n",
              "      <td>0</td>\n",
              "      <td>0</td>\n",
              "      <td>0</td>\n",
              "      <td>0</td>\n",
              "      <td>0</td>\n",
              "      <td>0</td>\n",
              "      <td>1</td>\n",
              "      <td>...</td>\n",
              "      <td>0</td>\n",
              "      <td>0</td>\n",
              "      <td>0</td>\n",
              "      <td>0</td>\n",
              "      <td>0</td>\n",
              "      <td>0</td>\n",
              "      <td>0</td>\n",
              "      <td>0</td>\n",
              "      <td>0</td>\n",
              "      <td>0</td>\n",
              "    </tr>\n",
              "  </tbody>\n",
              "</table>\n",
              "<p>5 rows × 993 columns</p>\n",
              "</div>\n",
              "      <button class=\"colab-df-convert\" onclick=\"convertToInteractive('df-19b63799-3535-4930-9d8b-c35a76075ce7')\"\n",
              "              title=\"Convert this dataframe to an interactive table.\"\n",
              "              style=\"display:none;\">\n",
              "        \n",
              "  <svg xmlns=\"http://www.w3.org/2000/svg\" height=\"24px\"viewBox=\"0 0 24 24\"\n",
              "       width=\"24px\">\n",
              "    <path d=\"M0 0h24v24H0V0z\" fill=\"none\"/>\n",
              "    <path d=\"M18.56 5.44l.94 2.06.94-2.06 2.06-.94-2.06-.94-.94-2.06-.94 2.06-2.06.94zm-11 1L8.5 8.5l.94-2.06 2.06-.94-2.06-.94L8.5 2.5l-.94 2.06-2.06.94zm10 10l.94 2.06.94-2.06 2.06-.94-2.06-.94-.94-2.06-.94 2.06-2.06.94z\"/><path d=\"M17.41 7.96l-1.37-1.37c-.4-.4-.92-.59-1.43-.59-.52 0-1.04.2-1.43.59L10.3 9.45l-7.72 7.72c-.78.78-.78 2.05 0 2.83L4 21.41c.39.39.9.59 1.41.59.51 0 1.02-.2 1.41-.59l7.78-7.78 2.81-2.81c.8-.78.8-2.07 0-2.86zM5.41 20L4 18.59l7.72-7.72 1.47 1.35L5.41 20z\"/>\n",
              "  </svg>\n",
              "      </button>\n",
              "      \n",
              "  <style>\n",
              "    .colab-df-container {\n",
              "      display:flex;\n",
              "      flex-wrap:wrap;\n",
              "      gap: 12px;\n",
              "    }\n",
              "\n",
              "    .colab-df-convert {\n",
              "      background-color: #E8F0FE;\n",
              "      border: none;\n",
              "      border-radius: 50%;\n",
              "      cursor: pointer;\n",
              "      display: none;\n",
              "      fill: #1967D2;\n",
              "      height: 32px;\n",
              "      padding: 0 0 0 0;\n",
              "      width: 32px;\n",
              "    }\n",
              "\n",
              "    .colab-df-convert:hover {\n",
              "      background-color: #E2EBFA;\n",
              "      box-shadow: 0px 1px 2px rgba(60, 64, 67, 0.3), 0px 1px 3px 1px rgba(60, 64, 67, 0.15);\n",
              "      fill: #174EA6;\n",
              "    }\n",
              "\n",
              "    [theme=dark] .colab-df-convert {\n",
              "      background-color: #3B4455;\n",
              "      fill: #D2E3FC;\n",
              "    }\n",
              "\n",
              "    [theme=dark] .colab-df-convert:hover {\n",
              "      background-color: #434B5C;\n",
              "      box-shadow: 0px 1px 3px 1px rgba(0, 0, 0, 0.15);\n",
              "      filter: drop-shadow(0px 1px 2px rgba(0, 0, 0, 0.3));\n",
              "      fill: #FFFFFF;\n",
              "    }\n",
              "  </style>\n",
              "\n",
              "      <script>\n",
              "        const buttonEl =\n",
              "          document.querySelector('#df-19b63799-3535-4930-9d8b-c35a76075ce7 button.colab-df-convert');\n",
              "        buttonEl.style.display =\n",
              "          google.colab.kernel.accessAllowed ? 'block' : 'none';\n",
              "\n",
              "        async function convertToInteractive(key) {\n",
              "          const element = document.querySelector('#df-19b63799-3535-4930-9d8b-c35a76075ce7');\n",
              "          const dataTable =\n",
              "            await google.colab.kernel.invokeFunction('convertToInteractive',\n",
              "                                                     [key], {});\n",
              "          if (!dataTable) return;\n",
              "\n",
              "          const docLinkHtml = 'Like what you see? Visit the ' +\n",
              "            '<a target=\"_blank\" href=https://colab.research.google.com/notebooks/data_table.ipynb>data table notebook</a>'\n",
              "            + ' to learn more about interactive tables.';\n",
              "          element.innerHTML = '';\n",
              "          dataTable['output_type'] = 'display_data';\n",
              "          await google.colab.output.renderOutput(dataTable, element);\n",
              "          const docLink = document.createElement('div');\n",
              "          docLink.innerHTML = docLinkHtml;\n",
              "          element.appendChild(docLink);\n",
              "        }\n",
              "      </script>\n",
              "    </div>\n",
              "  </div>\n",
              "  "
            ]
          },
          "metadata": {},
          "execution_count": 21
        }
      ]
    },
    {
      "cell_type": "code",
      "source": [
        "#pca = PCA()\n",
        "#pca.fit(x)"
      ],
      "metadata": {
        "id": "sw4KRiG7p5vu"
      },
      "execution_count": null,
      "outputs": []
    },
    {
      "cell_type": "markdown",
      "source": [
        "A redução de dimensionalidade não está funcionando, pois está excedendo o uso de memoria RAM do Colab. Abaixo irei fazer alguns teste para tentar resolver."
      ],
      "metadata": {
        "id": "K5ID9RP6HSVv"
      }
    },
    {
      "cell_type": "code",
      "source": [
        "from scipy import sparse"
      ],
      "metadata": {
        "id": "2vkCDoMVp5oS"
      },
      "execution_count": null,
      "outputs": []
    },
    {
      "cell_type": "code",
      "source": [
        "transformer = IncrementalPCA(n_components=7, batch_size=200)\n",
        "transformer.partial_fit(x)"
      ],
      "metadata": {
        "id": "-Q7QhLJ8p5Wu"
      },
      "execution_count": null,
      "outputs": []
    },
    {
      "cell_type": "code",
      "source": [
        "x.shape"
      ],
      "metadata": {
        "id": "C0wTwoWgBp7F"
      },
      "execution_count": null,
      "outputs": []
    },
    {
      "cell_type": "code",
      "source": [
        "n_components = 784\n",
        "batch_size = None\n",
        "\n",
        "incrementalPCA = IncrementalPCA(n_components = 84,\\\n",
        "                                batch_size = None)\n",
        "\n",
        "X_train_incrementalPCA = incrementalPCA.fit_transform(X_train)\n",
        "X_train_incrementalPCA = \\\n",
        "    pd.DataFrame(data = X_train_incrementalPCA, index = train_index)\n",
        "\n",
        "X_validation_incrementalPCA = incrementalPCA.transform(X_test)\n",
        "X_validation_incrementalPCA = \\\n",
        "    pd.DataFrame(data = X_validation_incrementalPCA, index = validation_index)\n",
        "\n"
      ],
      "metadata": {
        "id": "gc_YgYnaBd8C"
      },
      "execution_count": null,
      "outputs": []
    },
    {
      "cell_type": "markdown",
      "source": [],
      "metadata": {
        "id": "itkfn8U4p5E3"
      }
    },
    {
      "cell_type": "markdown",
      "metadata": {
        "id": "wz-yuzwLiX6i"
      },
      "source": [
        "## EXPERIMENTANDO MODELOS"
      ]
    },
    {
      "cell_type": "code",
      "execution_count": null,
      "metadata": {
        "id": "4xk73Fyu_huj"
      },
      "outputs": [],
      "source": [
        "from sklearn.model_selection import train_test_split\n",
        "from sklearn.linear_model import LinearRegression\n",
        "from sklearn.preprocessing import StandardScaler\n",
        "from sklearn.metrics import r2_score, mean_absolute_error"
      ]
    },
    {
      "cell_type": "markdown",
      "metadata": {
        "id": "gN9FeYvVJIZx"
      },
      "source": [
        "### Testando regressão linear"
      ]
    },
    {
      "cell_type": "code",
      "execution_count": null,
      "metadata": {
        "id": "B-pA25_X_hsf"
      },
      "outputs": [],
      "source": [
        "X = train.drop(['name', 'item_description', 'price', 'main_cat', 'sub_cat_1', 'sub_cat_2'], axis=1)\n",
        "y = train.price\n",
        "\n",
        "X_std = StandardScaler().fit_transform(X)\n",
        "X_train, X_test, y_train, y_test = train_test_split(X_std, y, test_size = 0.2, random_state=10)\n",
        "lr = LinearRegression()\n",
        "lr.fit(X_train, y_train)\n",
        "y_pred = lr.predict(X_test)"
      ]
    }
  ],
  "metadata": {
    "colab": {
      "collapsed_sections": [
        "wz-yuzwLiX6i"
      ],
      "provenance": [],
      "include_colab_link": true
    },
    "kernelspec": {
      "display_name": "Python 3.10.5 64-bit",
      "language": "python",
      "name": "python3"
    },
    "language_info": {
      "name": "python",
      "version": "3.10.5"
    },
    "vscode": {
      "interpreter": {
        "hash": "5de18e48daecd57ba354c358a36acdcd4a63e3d3692629ade17a0b3b47922109"
      }
    }
  },
  "nbformat": 4,
  "nbformat_minor": 0
}