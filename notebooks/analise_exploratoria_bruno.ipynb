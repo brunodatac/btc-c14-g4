{
  "nbformat": 4,
  "nbformat_minor": 0,
  "metadata": {
    "colab": {
      "provenance": [],
      "collapsed_sections": [],
      "authorship_tag": "ABX9TyOR4K2eSVYFruebnv66sjlF",
      "include_colab_link": true
    },
    "kernelspec": {
      "name": "python3",
      "display_name": "Python 3"
    },
    "language_info": {
      "name": "python"
    }
  },
  "cells": [
    {
      "cell_type": "markdown",
      "metadata": {
        "id": "view-in-github",
        "colab_type": "text"
      },
      "source": [
        "<a href=\"https://colab.research.google.com/github/flaviowu/btc-c14-g4/blob/main/notebooks/analise_exploratoria_bruno.ipynb\" target=\"_parent\"><img src=\"https://colab.research.google.com/assets/colab-badge.svg\" alt=\"Open In Colab\"/></a>"
      ]
    },
    {
      "cell_type": "code",
      "source": [
        "from google.colab import drive\n",
        "drive.mount('/content/drive')"
      ],
      "metadata": {
        "colab": {
          "base_uri": "https://localhost:8080/"
        },
        "id": "zqncKeBIZbSa",
        "outputId": "59f06a79-1b7d-468b-aa16-59d6fb1d4f93"
      },
      "execution_count": 1,
      "outputs": [
        {
          "output_type": "stream",
          "name": "stdout",
          "text": [
            "Drive already mounted at /content/drive; to attempt to forcibly remount, call drive.mount(\"/content/drive\", force_remount=True).\n"
          ]
        }
      ]
    },
    {
      "cell_type": "code",
      "source": [
        "import random\n",
        "import numpy as np\n",
        "import pandas as pd\n",
        "\n",
        "train = pd.read_csv('/content/drive/MyDrive/Colab Notebooks/modulo 6/train_clean_rev2.csv')\n",
        "test = pd.read_csv('/content/drive/MyDrive/Colab Notebooks/modulo 6/test_raw.csv')"
      ],
      "metadata": {
        "id": "KllAHXseGj1y"
      },
      "execution_count": 2,
      "outputs": []
    },
    {
      "cell_type": "markdown",
      "source": [
        "#### Preparando o dataset de treino"
      ],
      "metadata": {
        "id": "0seX3NXS9CoN"
      }
    },
    {
      "cell_type": "code",
      "source": [
        "train.head()"
      ],
      "metadata": {
        "colab": {
          "base_uri": "https://localhost:8080/",
          "height": 0
        },
        "id": "2cHoJs6Ggznl",
        "outputId": "405e23fb-59a1-47cc-c917-7c53d4764989"
      },
      "execution_count": 3,
      "outputs": [
        {
          "output_type": "execute_result",
          "data": {
            "text/plain": [
              "                                  name  item_condition_id brand_name  price  \\\n",
              "0  MLB Cincinnati Reds T Shirt Size XL                  3        NaN   10.0   \n",
              "1     Razer BlackWidow Chroma Keyboard                  3      Razer   52.0   \n",
              "2                       AVA-VIV Blouse                  1     Target   10.0   \n",
              "3                Leather Horse Statues                  1        NaN   35.0   \n",
              "4                 24K GOLD plated rose                  1        NaN   44.0   \n",
              "\n",
              "   shipping                                   item_description        date  \\\n",
              "0         1                                 No description yet   2018-6-18   \n",
              "1         0  This keyboard is in great condition and works ...   2018-3-18   \n",
              "2         1  Adorable top with a hint of lace and a key hol...  2018-10-25   \n",
              "3         1  New with tags. Leather horses. Retail for [rm]...   2018-2-20   \n",
              "4         0          Complete with certificate of authenticity   2018-4-16   \n",
              "\n",
              "   stock     main_cat            sub_cat_1           sub_cat_2  \n",
              "0     27          Men                 Tops            T-shirts  \n",
              "1     15  Electronics  Computers & Tablets  Components & Parts  \n",
              "2     14        Women       Tops & Blouses              Blouse  \n",
              "3      1         Home           Home Décor  Home Décor Accents  \n",
              "4     13        Women              Jewelry           Necklaces  "
            ],
            "text/html": [
              "\n",
              "  <div id=\"df-9f87e9cd-f259-4671-94b4-184faa33b7fa\">\n",
              "    <div class=\"colab-df-container\">\n",
              "      <div>\n",
              "<style scoped>\n",
              "    .dataframe tbody tr th:only-of-type {\n",
              "        vertical-align: middle;\n",
              "    }\n",
              "\n",
              "    .dataframe tbody tr th {\n",
              "        vertical-align: top;\n",
              "    }\n",
              "\n",
              "    .dataframe thead th {\n",
              "        text-align: right;\n",
              "    }\n",
              "</style>\n",
              "<table border=\"1\" class=\"dataframe\">\n",
              "  <thead>\n",
              "    <tr style=\"text-align: right;\">\n",
              "      <th></th>\n",
              "      <th>name</th>\n",
              "      <th>item_condition_id</th>\n",
              "      <th>brand_name</th>\n",
              "      <th>price</th>\n",
              "      <th>shipping</th>\n",
              "      <th>item_description</th>\n",
              "      <th>date</th>\n",
              "      <th>stock</th>\n",
              "      <th>main_cat</th>\n",
              "      <th>sub_cat_1</th>\n",
              "      <th>sub_cat_2</th>\n",
              "    </tr>\n",
              "  </thead>\n",
              "  <tbody>\n",
              "    <tr>\n",
              "      <th>0</th>\n",
              "      <td>MLB Cincinnati Reds T Shirt Size XL</td>\n",
              "      <td>3</td>\n",
              "      <td>NaN</td>\n",
              "      <td>10.0</td>\n",
              "      <td>1</td>\n",
              "      <td>No description yet</td>\n",
              "      <td>2018-6-18</td>\n",
              "      <td>27</td>\n",
              "      <td>Men</td>\n",
              "      <td>Tops</td>\n",
              "      <td>T-shirts</td>\n",
              "    </tr>\n",
              "    <tr>\n",
              "      <th>1</th>\n",
              "      <td>Razer BlackWidow Chroma Keyboard</td>\n",
              "      <td>3</td>\n",
              "      <td>Razer</td>\n",
              "      <td>52.0</td>\n",
              "      <td>0</td>\n",
              "      <td>This keyboard is in great condition and works ...</td>\n",
              "      <td>2018-3-18</td>\n",
              "      <td>15</td>\n",
              "      <td>Electronics</td>\n",
              "      <td>Computers &amp; Tablets</td>\n",
              "      <td>Components &amp; Parts</td>\n",
              "    </tr>\n",
              "    <tr>\n",
              "      <th>2</th>\n",
              "      <td>AVA-VIV Blouse</td>\n",
              "      <td>1</td>\n",
              "      <td>Target</td>\n",
              "      <td>10.0</td>\n",
              "      <td>1</td>\n",
              "      <td>Adorable top with a hint of lace and a key hol...</td>\n",
              "      <td>2018-10-25</td>\n",
              "      <td>14</td>\n",
              "      <td>Women</td>\n",
              "      <td>Tops &amp; Blouses</td>\n",
              "      <td>Blouse</td>\n",
              "    </tr>\n",
              "    <tr>\n",
              "      <th>3</th>\n",
              "      <td>Leather Horse Statues</td>\n",
              "      <td>1</td>\n",
              "      <td>NaN</td>\n",
              "      <td>35.0</td>\n",
              "      <td>1</td>\n",
              "      <td>New with tags. Leather horses. Retail for [rm]...</td>\n",
              "      <td>2018-2-20</td>\n",
              "      <td>1</td>\n",
              "      <td>Home</td>\n",
              "      <td>Home Décor</td>\n",
              "      <td>Home Décor Accents</td>\n",
              "    </tr>\n",
              "    <tr>\n",
              "      <th>4</th>\n",
              "      <td>24K GOLD plated rose</td>\n",
              "      <td>1</td>\n",
              "      <td>NaN</td>\n",
              "      <td>44.0</td>\n",
              "      <td>0</td>\n",
              "      <td>Complete with certificate of authenticity</td>\n",
              "      <td>2018-4-16</td>\n",
              "      <td>13</td>\n",
              "      <td>Women</td>\n",
              "      <td>Jewelry</td>\n",
              "      <td>Necklaces</td>\n",
              "    </tr>\n",
              "  </tbody>\n",
              "</table>\n",
              "</div>\n",
              "      <button class=\"colab-df-convert\" onclick=\"convertToInteractive('df-9f87e9cd-f259-4671-94b4-184faa33b7fa')\"\n",
              "              title=\"Convert this dataframe to an interactive table.\"\n",
              "              style=\"display:none;\">\n",
              "        \n",
              "  <svg xmlns=\"http://www.w3.org/2000/svg\" height=\"24px\"viewBox=\"0 0 24 24\"\n",
              "       width=\"24px\">\n",
              "    <path d=\"M0 0h24v24H0V0z\" fill=\"none\"/>\n",
              "    <path d=\"M18.56 5.44l.94 2.06.94-2.06 2.06-.94-2.06-.94-.94-2.06-.94 2.06-2.06.94zm-11 1L8.5 8.5l.94-2.06 2.06-.94-2.06-.94L8.5 2.5l-.94 2.06-2.06.94zm10 10l.94 2.06.94-2.06 2.06-.94-2.06-.94-.94-2.06-.94 2.06-2.06.94z\"/><path d=\"M17.41 7.96l-1.37-1.37c-.4-.4-.92-.59-1.43-.59-.52 0-1.04.2-1.43.59L10.3 9.45l-7.72 7.72c-.78.78-.78 2.05 0 2.83L4 21.41c.39.39.9.59 1.41.59.51 0 1.02-.2 1.41-.59l7.78-7.78 2.81-2.81c.8-.78.8-2.07 0-2.86zM5.41 20L4 18.59l7.72-7.72 1.47 1.35L5.41 20z\"/>\n",
              "  </svg>\n",
              "      </button>\n",
              "      \n",
              "  <style>\n",
              "    .colab-df-container {\n",
              "      display:flex;\n",
              "      flex-wrap:wrap;\n",
              "      gap: 12px;\n",
              "    }\n",
              "\n",
              "    .colab-df-convert {\n",
              "      background-color: #E8F0FE;\n",
              "      border: none;\n",
              "      border-radius: 50%;\n",
              "      cursor: pointer;\n",
              "      display: none;\n",
              "      fill: #1967D2;\n",
              "      height: 32px;\n",
              "      padding: 0 0 0 0;\n",
              "      width: 32px;\n",
              "    }\n",
              "\n",
              "    .colab-df-convert:hover {\n",
              "      background-color: #E2EBFA;\n",
              "      box-shadow: 0px 1px 2px rgba(60, 64, 67, 0.3), 0px 1px 3px 1px rgba(60, 64, 67, 0.15);\n",
              "      fill: #174EA6;\n",
              "    }\n",
              "\n",
              "    [theme=dark] .colab-df-convert {\n",
              "      background-color: #3B4455;\n",
              "      fill: #D2E3FC;\n",
              "    }\n",
              "\n",
              "    [theme=dark] .colab-df-convert:hover {\n",
              "      background-color: #434B5C;\n",
              "      box-shadow: 0px 1px 3px 1px rgba(0, 0, 0, 0.15);\n",
              "      filter: drop-shadow(0px 1px 2px rgba(0, 0, 0, 0.3));\n",
              "      fill: #FFFFFF;\n",
              "    }\n",
              "  </style>\n",
              "\n",
              "      <script>\n",
              "        const buttonEl =\n",
              "          document.querySelector('#df-9f87e9cd-f259-4671-94b4-184faa33b7fa button.colab-df-convert');\n",
              "        buttonEl.style.display =\n",
              "          google.colab.kernel.accessAllowed ? 'block' : 'none';\n",
              "\n",
              "        async function convertToInteractive(key) {\n",
              "          const element = document.querySelector('#df-9f87e9cd-f259-4671-94b4-184faa33b7fa');\n",
              "          const dataTable =\n",
              "            await google.colab.kernel.invokeFunction('convertToInteractive',\n",
              "                                                     [key], {});\n",
              "          if (!dataTable) return;\n",
              "\n",
              "          const docLinkHtml = 'Like what you see? Visit the ' +\n",
              "            '<a target=\"_blank\" href=https://colab.research.google.com/notebooks/data_table.ipynb>data table notebook</a>'\n",
              "            + ' to learn more about interactive tables.';\n",
              "          element.innerHTML = '';\n",
              "          dataTable['output_type'] = 'display_data';\n",
              "          await google.colab.output.renderOutput(dataTable, element);\n",
              "          const docLink = document.createElement('div');\n",
              "          docLink.innerHTML = docLinkHtml;\n",
              "          element.appendChild(docLink);\n",
              "        }\n",
              "      </script>\n",
              "    </div>\n",
              "  </div>\n",
              "  "
            ]
          },
          "metadata": {},
          "execution_count": 3
        }
      ]
    },
    {
      "cell_type": "code",
      "source": [
        "train = train.drop(['brand_name', 'date', 'stock'], axis=1)\n",
        "train.head()"
      ],
      "metadata": {
        "colab": {
          "base_uri": "https://localhost:8080/",
          "height": 0
        },
        "id": "V4LH6Srgiju5",
        "outputId": "b2b03885-6388-44ce-d9bb-ff162b58d65c"
      },
      "execution_count": 4,
      "outputs": [
        {
          "output_type": "execute_result",
          "data": {
            "text/plain": [
              "                                  name  item_condition_id  price  shipping  \\\n",
              "0  MLB Cincinnati Reds T Shirt Size XL                  3   10.0         1   \n",
              "1     Razer BlackWidow Chroma Keyboard                  3   52.0         0   \n",
              "2                       AVA-VIV Blouse                  1   10.0         1   \n",
              "3                Leather Horse Statues                  1   35.0         1   \n",
              "4                 24K GOLD plated rose                  1   44.0         0   \n",
              "\n",
              "                                    item_description     main_cat  \\\n",
              "0                                 No description yet          Men   \n",
              "1  This keyboard is in great condition and works ...  Electronics   \n",
              "2  Adorable top with a hint of lace and a key hol...        Women   \n",
              "3  New with tags. Leather horses. Retail for [rm]...         Home   \n",
              "4          Complete with certificate of authenticity        Women   \n",
              "\n",
              "             sub_cat_1           sub_cat_2  \n",
              "0                 Tops            T-shirts  \n",
              "1  Computers & Tablets  Components & Parts  \n",
              "2       Tops & Blouses              Blouse  \n",
              "3           Home Décor  Home Décor Accents  \n",
              "4              Jewelry           Necklaces  "
            ],
            "text/html": [
              "\n",
              "  <div id=\"df-a7d41154-b04f-4904-bb77-e115be1fc1e1\">\n",
              "    <div class=\"colab-df-container\">\n",
              "      <div>\n",
              "<style scoped>\n",
              "    .dataframe tbody tr th:only-of-type {\n",
              "        vertical-align: middle;\n",
              "    }\n",
              "\n",
              "    .dataframe tbody tr th {\n",
              "        vertical-align: top;\n",
              "    }\n",
              "\n",
              "    .dataframe thead th {\n",
              "        text-align: right;\n",
              "    }\n",
              "</style>\n",
              "<table border=\"1\" class=\"dataframe\">\n",
              "  <thead>\n",
              "    <tr style=\"text-align: right;\">\n",
              "      <th></th>\n",
              "      <th>name</th>\n",
              "      <th>item_condition_id</th>\n",
              "      <th>price</th>\n",
              "      <th>shipping</th>\n",
              "      <th>item_description</th>\n",
              "      <th>main_cat</th>\n",
              "      <th>sub_cat_1</th>\n",
              "      <th>sub_cat_2</th>\n",
              "    </tr>\n",
              "  </thead>\n",
              "  <tbody>\n",
              "    <tr>\n",
              "      <th>0</th>\n",
              "      <td>MLB Cincinnati Reds T Shirt Size XL</td>\n",
              "      <td>3</td>\n",
              "      <td>10.0</td>\n",
              "      <td>1</td>\n",
              "      <td>No description yet</td>\n",
              "      <td>Men</td>\n",
              "      <td>Tops</td>\n",
              "      <td>T-shirts</td>\n",
              "    </tr>\n",
              "    <tr>\n",
              "      <th>1</th>\n",
              "      <td>Razer BlackWidow Chroma Keyboard</td>\n",
              "      <td>3</td>\n",
              "      <td>52.0</td>\n",
              "      <td>0</td>\n",
              "      <td>This keyboard is in great condition and works ...</td>\n",
              "      <td>Electronics</td>\n",
              "      <td>Computers &amp; Tablets</td>\n",
              "      <td>Components &amp; Parts</td>\n",
              "    </tr>\n",
              "    <tr>\n",
              "      <th>2</th>\n",
              "      <td>AVA-VIV Blouse</td>\n",
              "      <td>1</td>\n",
              "      <td>10.0</td>\n",
              "      <td>1</td>\n",
              "      <td>Adorable top with a hint of lace and a key hol...</td>\n",
              "      <td>Women</td>\n",
              "      <td>Tops &amp; Blouses</td>\n",
              "      <td>Blouse</td>\n",
              "    </tr>\n",
              "    <tr>\n",
              "      <th>3</th>\n",
              "      <td>Leather Horse Statues</td>\n",
              "      <td>1</td>\n",
              "      <td>35.0</td>\n",
              "      <td>1</td>\n",
              "      <td>New with tags. Leather horses. Retail for [rm]...</td>\n",
              "      <td>Home</td>\n",
              "      <td>Home Décor</td>\n",
              "      <td>Home Décor Accents</td>\n",
              "    </tr>\n",
              "    <tr>\n",
              "      <th>4</th>\n",
              "      <td>24K GOLD plated rose</td>\n",
              "      <td>1</td>\n",
              "      <td>44.0</td>\n",
              "      <td>0</td>\n",
              "      <td>Complete with certificate of authenticity</td>\n",
              "      <td>Women</td>\n",
              "      <td>Jewelry</td>\n",
              "      <td>Necklaces</td>\n",
              "    </tr>\n",
              "  </tbody>\n",
              "</table>\n",
              "</div>\n",
              "      <button class=\"colab-df-convert\" onclick=\"convertToInteractive('df-a7d41154-b04f-4904-bb77-e115be1fc1e1')\"\n",
              "              title=\"Convert this dataframe to an interactive table.\"\n",
              "              style=\"display:none;\">\n",
              "        \n",
              "  <svg xmlns=\"http://www.w3.org/2000/svg\" height=\"24px\"viewBox=\"0 0 24 24\"\n",
              "       width=\"24px\">\n",
              "    <path d=\"M0 0h24v24H0V0z\" fill=\"none\"/>\n",
              "    <path d=\"M18.56 5.44l.94 2.06.94-2.06 2.06-.94-2.06-.94-.94-2.06-.94 2.06-2.06.94zm-11 1L8.5 8.5l.94-2.06 2.06-.94-2.06-.94L8.5 2.5l-.94 2.06-2.06.94zm10 10l.94 2.06.94-2.06 2.06-.94-2.06-.94-.94-2.06-.94 2.06-2.06.94z\"/><path d=\"M17.41 7.96l-1.37-1.37c-.4-.4-.92-.59-1.43-.59-.52 0-1.04.2-1.43.59L10.3 9.45l-7.72 7.72c-.78.78-.78 2.05 0 2.83L4 21.41c.39.39.9.59 1.41.59.51 0 1.02-.2 1.41-.59l7.78-7.78 2.81-2.81c.8-.78.8-2.07 0-2.86zM5.41 20L4 18.59l7.72-7.72 1.47 1.35L5.41 20z\"/>\n",
              "  </svg>\n",
              "      </button>\n",
              "      \n",
              "  <style>\n",
              "    .colab-df-container {\n",
              "      display:flex;\n",
              "      flex-wrap:wrap;\n",
              "      gap: 12px;\n",
              "    }\n",
              "\n",
              "    .colab-df-convert {\n",
              "      background-color: #E8F0FE;\n",
              "      border: none;\n",
              "      border-radius: 50%;\n",
              "      cursor: pointer;\n",
              "      display: none;\n",
              "      fill: #1967D2;\n",
              "      height: 32px;\n",
              "      padding: 0 0 0 0;\n",
              "      width: 32px;\n",
              "    }\n",
              "\n",
              "    .colab-df-convert:hover {\n",
              "      background-color: #E2EBFA;\n",
              "      box-shadow: 0px 1px 2px rgba(60, 64, 67, 0.3), 0px 1px 3px 1px rgba(60, 64, 67, 0.15);\n",
              "      fill: #174EA6;\n",
              "    }\n",
              "\n",
              "    [theme=dark] .colab-df-convert {\n",
              "      background-color: #3B4455;\n",
              "      fill: #D2E3FC;\n",
              "    }\n",
              "\n",
              "    [theme=dark] .colab-df-convert:hover {\n",
              "      background-color: #434B5C;\n",
              "      box-shadow: 0px 1px 3px 1px rgba(0, 0, 0, 0.15);\n",
              "      filter: drop-shadow(0px 1px 2px rgba(0, 0, 0, 0.3));\n",
              "      fill: #FFFFFF;\n",
              "    }\n",
              "  </style>\n",
              "\n",
              "      <script>\n",
              "        const buttonEl =\n",
              "          document.querySelector('#df-a7d41154-b04f-4904-bb77-e115be1fc1e1 button.colab-df-convert');\n",
              "        buttonEl.style.display =\n",
              "          google.colab.kernel.accessAllowed ? 'block' : 'none';\n",
              "\n",
              "        async function convertToInteractive(key) {\n",
              "          const element = document.querySelector('#df-a7d41154-b04f-4904-bb77-e115be1fc1e1');\n",
              "          const dataTable =\n",
              "            await google.colab.kernel.invokeFunction('convertToInteractive',\n",
              "                                                     [key], {});\n",
              "          if (!dataTable) return;\n",
              "\n",
              "          const docLinkHtml = 'Like what you see? Visit the ' +\n",
              "            '<a target=\"_blank\" href=https://colab.research.google.com/notebooks/data_table.ipynb>data table notebook</a>'\n",
              "            + ' to learn more about interactive tables.';\n",
              "          element.innerHTML = '';\n",
              "          dataTable['output_type'] = 'display_data';\n",
              "          await google.colab.output.renderOutput(dataTable, element);\n",
              "          const docLink = document.createElement('div');\n",
              "          docLink.innerHTML = docLinkHtml;\n",
              "          element.appendChild(docLink);\n",
              "        }\n",
              "      </script>\n",
              "    </div>\n",
              "  </div>\n",
              "  "
            ]
          },
          "metadata": {},
          "execution_count": 4
        }
      ]
    },
    {
      "cell_type": "markdown",
      "source": [
        "#### Preparando o dataset de teste"
      ],
      "metadata": {
        "id": "K3nzGKu6Flyg"
      }
    },
    {
      "cell_type": "code",
      "source": [
        "test = test.drop(['Unnamed: 0', 'test_id','brand_name', 'date', 'stock'], axis=1).dropna()\n",
        "test.head()"
      ],
      "metadata": {
        "colab": {
          "base_uri": "https://localhost:8080/",
          "height": 0
        },
        "id": "W6o29Q-tATox",
        "outputId": "37305920-4d77-41f4-e231-b857faa1ca23"
      },
      "execution_count": 5,
      "outputs": [
        {
          "output_type": "execute_result",
          "data": {
            "text/plain": [
              "                                       name  item_condition_id  \\\n",
              "0  Breast cancer \"I fight like a girl\" ring                  1   \n",
              "1  25 pcs NEW 7.5\"x12\" Kraft Bubble Mailers                  1   \n",
              "2                                 Coach bag                  1   \n",
              "3                             Floral Kimono                  2   \n",
              "4                          Life after Death                  3   \n",
              "\n",
              "                                    category_name  shipping  \\\n",
              "0                             Women/Jewelry/Rings         1   \n",
              "1         Other/Office supplies/Shipping Supplies         1   \n",
              "2  Vintage & Collectibles/Bags and Purses/Handbag         1   \n",
              "3                         Women/Sweaters/Cardigan         0   \n",
              "4             Other/Books/Religion & Spirituality         1   \n",
              "\n",
              "                                    item_description  \n",
              "0                                             Size 7  \n",
              "1  25 pcs NEW 7.5\"x12\" Kraft Bubble Mailers Lined...  \n",
              "2  Brand new coach bag. Bought for [rm] at a Coac...  \n",
              "3  -floral kimono -never worn -lightweight and pe...  \n",
              "4  Rediscovering life after the loss of a loved o...  "
            ],
            "text/html": [
              "\n",
              "  <div id=\"df-cc2c5c5c-fd2d-4f72-9d03-e11a9ddc9661\">\n",
              "    <div class=\"colab-df-container\">\n",
              "      <div>\n",
              "<style scoped>\n",
              "    .dataframe tbody tr th:only-of-type {\n",
              "        vertical-align: middle;\n",
              "    }\n",
              "\n",
              "    .dataframe tbody tr th {\n",
              "        vertical-align: top;\n",
              "    }\n",
              "\n",
              "    .dataframe thead th {\n",
              "        text-align: right;\n",
              "    }\n",
              "</style>\n",
              "<table border=\"1\" class=\"dataframe\">\n",
              "  <thead>\n",
              "    <tr style=\"text-align: right;\">\n",
              "      <th></th>\n",
              "      <th>name</th>\n",
              "      <th>item_condition_id</th>\n",
              "      <th>category_name</th>\n",
              "      <th>shipping</th>\n",
              "      <th>item_description</th>\n",
              "    </tr>\n",
              "  </thead>\n",
              "  <tbody>\n",
              "    <tr>\n",
              "      <th>0</th>\n",
              "      <td>Breast cancer \"I fight like a girl\" ring</td>\n",
              "      <td>1</td>\n",
              "      <td>Women/Jewelry/Rings</td>\n",
              "      <td>1</td>\n",
              "      <td>Size 7</td>\n",
              "    </tr>\n",
              "    <tr>\n",
              "      <th>1</th>\n",
              "      <td>25 pcs NEW 7.5\"x12\" Kraft Bubble Mailers</td>\n",
              "      <td>1</td>\n",
              "      <td>Other/Office supplies/Shipping Supplies</td>\n",
              "      <td>1</td>\n",
              "      <td>25 pcs NEW 7.5\"x12\" Kraft Bubble Mailers Lined...</td>\n",
              "    </tr>\n",
              "    <tr>\n",
              "      <th>2</th>\n",
              "      <td>Coach bag</td>\n",
              "      <td>1</td>\n",
              "      <td>Vintage &amp; Collectibles/Bags and Purses/Handbag</td>\n",
              "      <td>1</td>\n",
              "      <td>Brand new coach bag. Bought for [rm] at a Coac...</td>\n",
              "    </tr>\n",
              "    <tr>\n",
              "      <th>3</th>\n",
              "      <td>Floral Kimono</td>\n",
              "      <td>2</td>\n",
              "      <td>Women/Sweaters/Cardigan</td>\n",
              "      <td>0</td>\n",
              "      <td>-floral kimono -never worn -lightweight and pe...</td>\n",
              "    </tr>\n",
              "    <tr>\n",
              "      <th>4</th>\n",
              "      <td>Life after Death</td>\n",
              "      <td>3</td>\n",
              "      <td>Other/Books/Religion &amp; Spirituality</td>\n",
              "      <td>1</td>\n",
              "      <td>Rediscovering life after the loss of a loved o...</td>\n",
              "    </tr>\n",
              "  </tbody>\n",
              "</table>\n",
              "</div>\n",
              "      <button class=\"colab-df-convert\" onclick=\"convertToInteractive('df-cc2c5c5c-fd2d-4f72-9d03-e11a9ddc9661')\"\n",
              "              title=\"Convert this dataframe to an interactive table.\"\n",
              "              style=\"display:none;\">\n",
              "        \n",
              "  <svg xmlns=\"http://www.w3.org/2000/svg\" height=\"24px\"viewBox=\"0 0 24 24\"\n",
              "       width=\"24px\">\n",
              "    <path d=\"M0 0h24v24H0V0z\" fill=\"none\"/>\n",
              "    <path d=\"M18.56 5.44l.94 2.06.94-2.06 2.06-.94-2.06-.94-.94-2.06-.94 2.06-2.06.94zm-11 1L8.5 8.5l.94-2.06 2.06-.94-2.06-.94L8.5 2.5l-.94 2.06-2.06.94zm10 10l.94 2.06.94-2.06 2.06-.94-2.06-.94-.94-2.06-.94 2.06-2.06.94z\"/><path d=\"M17.41 7.96l-1.37-1.37c-.4-.4-.92-.59-1.43-.59-.52 0-1.04.2-1.43.59L10.3 9.45l-7.72 7.72c-.78.78-.78 2.05 0 2.83L4 21.41c.39.39.9.59 1.41.59.51 0 1.02-.2 1.41-.59l7.78-7.78 2.81-2.81c.8-.78.8-2.07 0-2.86zM5.41 20L4 18.59l7.72-7.72 1.47 1.35L5.41 20z\"/>\n",
              "  </svg>\n",
              "      </button>\n",
              "      \n",
              "  <style>\n",
              "    .colab-df-container {\n",
              "      display:flex;\n",
              "      flex-wrap:wrap;\n",
              "      gap: 12px;\n",
              "    }\n",
              "\n",
              "    .colab-df-convert {\n",
              "      background-color: #E8F0FE;\n",
              "      border: none;\n",
              "      border-radius: 50%;\n",
              "      cursor: pointer;\n",
              "      display: none;\n",
              "      fill: #1967D2;\n",
              "      height: 32px;\n",
              "      padding: 0 0 0 0;\n",
              "      width: 32px;\n",
              "    }\n",
              "\n",
              "    .colab-df-convert:hover {\n",
              "      background-color: #E2EBFA;\n",
              "      box-shadow: 0px 1px 2px rgba(60, 64, 67, 0.3), 0px 1px 3px 1px rgba(60, 64, 67, 0.15);\n",
              "      fill: #174EA6;\n",
              "    }\n",
              "\n",
              "    [theme=dark] .colab-df-convert {\n",
              "      background-color: #3B4455;\n",
              "      fill: #D2E3FC;\n",
              "    }\n",
              "\n",
              "    [theme=dark] .colab-df-convert:hover {\n",
              "      background-color: #434B5C;\n",
              "      box-shadow: 0px 1px 3px 1px rgba(0, 0, 0, 0.15);\n",
              "      filter: drop-shadow(0px 1px 2px rgba(0, 0, 0, 0.3));\n",
              "      fill: #FFFFFF;\n",
              "    }\n",
              "  </style>\n",
              "\n",
              "      <script>\n",
              "        const buttonEl =\n",
              "          document.querySelector('#df-cc2c5c5c-fd2d-4f72-9d03-e11a9ddc9661 button.colab-df-convert');\n",
              "        buttonEl.style.display =\n",
              "          google.colab.kernel.accessAllowed ? 'block' : 'none';\n",
              "\n",
              "        async function convertToInteractive(key) {\n",
              "          const element = document.querySelector('#df-cc2c5c5c-fd2d-4f72-9d03-e11a9ddc9661');\n",
              "          const dataTable =\n",
              "            await google.colab.kernel.invokeFunction('convertToInteractive',\n",
              "                                                     [key], {});\n",
              "          if (!dataTable) return;\n",
              "\n",
              "          const docLinkHtml = 'Like what you see? Visit the ' +\n",
              "            '<a target=\"_blank\" href=https://colab.research.google.com/notebooks/data_table.ipynb>data table notebook</a>'\n",
              "            + ' to learn more about interactive tables.';\n",
              "          element.innerHTML = '';\n",
              "          dataTable['output_type'] = 'display_data';\n",
              "          await google.colab.output.renderOutput(dataTable, element);\n",
              "          const docLink = document.createElement('div');\n",
              "          docLink.innerHTML = docLinkHtml;\n",
              "          element.appendChild(docLink);\n",
              "        }\n",
              "      </script>\n",
              "    </div>\n",
              "  </div>\n",
              "  "
            ]
          },
          "metadata": {},
          "execution_count": 5
        }
      ]
    },
    {
      "cell_type": "code",
      "source": [
        "test.isna().sum()\n"
      ],
      "metadata": {
        "colab": {
          "base_uri": "https://localhost:8080/"
        },
        "id": "PDGIXL1-Aoos",
        "outputId": "bfb6aca9-7a53-48a2-ad33-9fe94e3722f9"
      },
      "execution_count": 6,
      "outputs": [
        {
          "output_type": "execute_result",
          "data": {
            "text/plain": [
              "name                 0\n",
              "item_condition_id    0\n",
              "category_name        0\n",
              "shipping             0\n",
              "item_description     0\n",
              "dtype: int64"
            ]
          },
          "metadata": {},
          "execution_count": 6
        }
      ]
    },
    {
      "cell_type": "code",
      "source": [
        "# dividindo as categorias em colunas\n",
        "categories = test.category_name.str.split('/', expand=True)\n",
        "categories.columns = ['main_cat', 'sub_cat_1', 'sub_cat_2', 'sub_cat_3', 'sub_cat_4']\n",
        "\n",
        "test = pd.concat([test, categories], axis=1)\n",
        "test.drop(['category_name', 'sub_cat_3', 'sub_cat_4'], axis=1, inplace=True)\n",
        "\n",
        "test.columns"
      ],
      "metadata": {
        "id": "LhII5p4ZC15z",
        "colab": {
          "base_uri": "https://localhost:8080/"
        },
        "outputId": "4de798b0-9652-4b4d-d859-626e21a480f1"
      },
      "execution_count": 7,
      "outputs": [
        {
          "output_type": "execute_result",
          "data": {
            "text/plain": [
              "Index(['name', 'item_condition_id', 'shipping', 'item_description', 'main_cat',\n",
              "       'sub_cat_1', 'sub_cat_2'],\n",
              "      dtype='object')"
            ]
          },
          "metadata": {},
          "execution_count": 7
        }
      ]
    },
    {
      "cell_type": "markdown",
      "source": [
        "## CONDIÇÃO DOS ITENS"
      ],
      "metadata": {
        "id": "z35ibeOjf26k"
      }
    },
    {
      "cell_type": "code",
      "source": [
        "print('Total de NaN nas colunas irem_condition_id e price\\n')\n",
        "train[['item_condition_id', 'price']].isna().mean()"
      ],
      "metadata": {
        "colab": {
          "base_uri": "https://localhost:8080/"
        },
        "id": "sH84SDMGc_RE",
        "outputId": "558fedfc-c7f4-48bf-8e10-72afc2e822c8"
      },
      "execution_count": 8,
      "outputs": [
        {
          "output_type": "stream",
          "name": "stdout",
          "text": [
            "Total de NaN nas colunas irem_condition_id e price\n",
            "\n"
          ]
        },
        {
          "output_type": "execute_result",
          "data": {
            "text/plain": [
              "item_condition_id    0.0\n",
              "price                0.0\n",
              "dtype: float64"
            ]
          },
          "metadata": {},
          "execution_count": 8
        }
      ]
    },
    {
      "cell_type": "markdown",
      "source": [
        "#### A condição dos itens que mais aparece é a **condição 1**, com 43% do total."
      ],
      "metadata": {
        "id": "J6-vlCo0_Yrb"
      }
    },
    {
      "cell_type": "code",
      "source": [
        "print('Números totais:' )\n",
        "train.item_condition_id.value_counts()"
      ],
      "metadata": {
        "colab": {
          "base_uri": "https://localhost:8080/"
        },
        "id": "lHtWb8UNBuJ3",
        "outputId": "a17d0f8d-6703-462d-c443-381bc44a52d7"
      },
      "execution_count": 9,
      "outputs": [
        {
          "output_type": "stream",
          "name": "stdout",
          "text": [
            "Números totais:\n"
          ]
        },
        {
          "output_type": "execute_result",
          "data": {
            "text/plain": [
              "1    638324\n",
              "3    430402\n",
              "2    373302\n",
              "4     31803\n",
              "5      2373\n",
              "Name: item_condition_id, dtype: int64"
            ]
          },
          "metadata": {},
          "execution_count": 9
        }
      ]
    },
    {
      "cell_type": "code",
      "source": [
        "print('Porcentagem:' )\n",
        "train.item_condition_id.value_counts(normalize = True).mul(100).round(1).astype(str) + '%' # Frequencias relativas"
      ],
      "metadata": {
        "colab": {
          "base_uri": "https://localhost:8080/"
        },
        "id": "SUJpiA3bVym2",
        "outputId": "e82bafbe-8fbe-4cdf-92b8-128600be1181"
      },
      "execution_count": 10,
      "outputs": [
        {
          "output_type": "stream",
          "name": "stdout",
          "text": [
            "Porcentagem:\n"
          ]
        },
        {
          "output_type": "execute_result",
          "data": {
            "text/plain": [
              "1    43.2%\n",
              "3    29.2%\n",
              "2    25.3%\n",
              "4     2.2%\n",
              "5     0.2%\n",
              "Name: item_condition_id, dtype: object"
            ]
          },
          "metadata": {},
          "execution_count": 10
        }
      ]
    },
    {
      "cell_type": "markdown",
      "source": [
        "## PREÇO POR CONDIÇÃO"
      ],
      "metadata": {
        "id": "VeIp2YIkg_FE"
      }
    },
    {
      "cell_type": "markdown",
      "source": [
        "#### As **condições 1** e **3** se destacam com os **maiores valores totais**. Tendo **mais de 70%** do todo."
      ],
      "metadata": {
        "id": "zHKWHYJYLTKt"
      }
    },
    {
      "cell_type": "code",
      "source": [
        "preco_total_por_condicao = []\n",
        "\n",
        "for condicao in range(1,6):\n",
        "    preco_total_por_condicao.append(train[train['item_condition_id'] \n",
        "                                          == condicao].price.sum())\n",
        "\n",
        "serie_preco = pd.Series(index = range(1,6), \n",
        "                                data = preco_total_por_condicao)\n",
        "print('Números totais:' )\n",
        "serie_preco"
      ],
      "metadata": {
        "colab": {
          "base_uri": "https://localhost:8080/"
        },
        "id": "D2JFzydpLO0o",
        "outputId": "dde49f18-2a44-4ddc-ecc3-6eddfa8caa3f"
      },
      "execution_count": 11,
      "outputs": [
        {
          "output_type": "stream",
          "name": "stdout",
          "text": [
            "Números totais:\n"
          ]
        },
        {
          "output_type": "execute_result",
          "data": {
            "text/plain": [
              "1    16911379.0\n",
              "2    10294711.0\n",
              "3    11422223.0\n",
              "4      774887.5\n",
              "5       75354.0\n",
              "dtype: float64"
            ]
          },
          "metadata": {},
          "execution_count": 11
        }
      ]
    },
    {
      "cell_type": "code",
      "source": [
        "porc_preco_por_condicao = (serie_preco \n",
        "                          / serie_preco.sum()).mul(100).round(1).astype(str) + '%'\n",
        "print('Porcentagem:' )\n",
        "porc_preco_por_condicao"
      ],
      "metadata": {
        "colab": {
          "base_uri": "https://localhost:8080/"
        },
        "id": "4Z9VKNWhWtNf",
        "outputId": "160d1b82-3ca6-4a02-dfbf-afaadf03b24f"
      },
      "execution_count": 12,
      "outputs": [
        {
          "output_type": "stream",
          "name": "stdout",
          "text": [
            "Porcentagem:\n"
          ]
        },
        {
          "output_type": "execute_result",
          "data": {
            "text/plain": [
              "1    42.8%\n",
              "2    26.1%\n",
              "3    28.9%\n",
              "4     2.0%\n",
              "5     0.2%\n",
              "dtype: object"
            ]
          },
          "metadata": {},
          "execution_count": 12
        }
      ]
    },
    {
      "cell_type": "markdown",
      "source": [
        "#### **Preço medio** por condição dos itens. Os itens com **condição 5** se destacam com a **maior media** de preços."
      ],
      "metadata": {
        "id": "cOi-aRrxK2Nl"
      }
    },
    {
      "cell_type": "code",
      "source": [
        "preco_medio_por_condicao = []\n",
        "\n",
        "for condicao in range(1,6):\n",
        "    preco_medio_por_condicao.append(train[train['item_condition_id'] \n",
        "                                          == condicao].price.mean().round(2))\n",
        "\n",
        "pd.Series(index = range(1,6), data = preco_medio_por_condicao)"
      ],
      "metadata": {
        "colab": {
          "base_uri": "https://localhost:8080/"
        },
        "id": "sIf4iZuwIZ6U",
        "outputId": "551b9630-6820-4710-e2cf-f352619493e2"
      },
      "execution_count": 13,
      "outputs": [
        {
          "output_type": "execute_result",
          "data": {
            "text/plain": [
              "1    26.49\n",
              "2    27.58\n",
              "3    26.54\n",
              "4    24.37\n",
              "5    31.75\n",
              "dtype: float64"
            ]
          },
          "metadata": {},
          "execution_count": 13
        }
      ]
    },
    {
      "cell_type": "markdown",
      "source": [
        "## INVESTIGAR AS CATEGORIAS DOS ITENS COM CONDIÇÃO 1"
      ],
      "metadata": {
        "id": "-Oz3HkN9dfrg"
      }
    },
    {
      "cell_type": "markdown",
      "source": [
        "#### Principais categorias da condição 1 por coluna\n",
        "\n",
        "\n",
        "\n",
        "\n"
      ],
      "metadata": {
        "id": "iLpar6kJFbS8"
      }
    },
    {
      "cell_type": "code",
      "source": [
        "condicao_1 = train[train['item_condition_id'] == 1]\n",
        "\n",
        "condicao_1[['main_cat',\t'sub_cat_1',\t'sub_cat_2']].describe()"
      ],
      "metadata": {
        "colab": {
          "base_uri": "https://localhost:8080/",
          "height": 0
        },
        "id": "b3phUfSGExwG",
        "outputId": "16c87e2b-6152-42e9-bb17-513a52cbc5fd"
      },
      "execution_count": 14,
      "outputs": [
        {
          "output_type": "execute_result",
          "data": {
            "text/plain": [
              "       main_cat sub_cat_1 sub_cat_2\n",
              "count    638324    638324    638324\n",
              "unique       10       113       829\n",
              "top       Women    Makeup      Face\n",
              "freq     228077     89130     33787"
            ],
            "text/html": [
              "\n",
              "  <div id=\"df-1df3c79b-a42f-4e56-b069-ccc868bf24b0\">\n",
              "    <div class=\"colab-df-container\">\n",
              "      <div>\n",
              "<style scoped>\n",
              "    .dataframe tbody tr th:only-of-type {\n",
              "        vertical-align: middle;\n",
              "    }\n",
              "\n",
              "    .dataframe tbody tr th {\n",
              "        vertical-align: top;\n",
              "    }\n",
              "\n",
              "    .dataframe thead th {\n",
              "        text-align: right;\n",
              "    }\n",
              "</style>\n",
              "<table border=\"1\" class=\"dataframe\">\n",
              "  <thead>\n",
              "    <tr style=\"text-align: right;\">\n",
              "      <th></th>\n",
              "      <th>main_cat</th>\n",
              "      <th>sub_cat_1</th>\n",
              "      <th>sub_cat_2</th>\n",
              "    </tr>\n",
              "  </thead>\n",
              "  <tbody>\n",
              "    <tr>\n",
              "      <th>count</th>\n",
              "      <td>638324</td>\n",
              "      <td>638324</td>\n",
              "      <td>638324</td>\n",
              "    </tr>\n",
              "    <tr>\n",
              "      <th>unique</th>\n",
              "      <td>10</td>\n",
              "      <td>113</td>\n",
              "      <td>829</td>\n",
              "    </tr>\n",
              "    <tr>\n",
              "      <th>top</th>\n",
              "      <td>Women</td>\n",
              "      <td>Makeup</td>\n",
              "      <td>Face</td>\n",
              "    </tr>\n",
              "    <tr>\n",
              "      <th>freq</th>\n",
              "      <td>228077</td>\n",
              "      <td>89130</td>\n",
              "      <td>33787</td>\n",
              "    </tr>\n",
              "  </tbody>\n",
              "</table>\n",
              "</div>\n",
              "      <button class=\"colab-df-convert\" onclick=\"convertToInteractive('df-1df3c79b-a42f-4e56-b069-ccc868bf24b0')\"\n",
              "              title=\"Convert this dataframe to an interactive table.\"\n",
              "              style=\"display:none;\">\n",
              "        \n",
              "  <svg xmlns=\"http://www.w3.org/2000/svg\" height=\"24px\"viewBox=\"0 0 24 24\"\n",
              "       width=\"24px\">\n",
              "    <path d=\"M0 0h24v24H0V0z\" fill=\"none\"/>\n",
              "    <path d=\"M18.56 5.44l.94 2.06.94-2.06 2.06-.94-2.06-.94-.94-2.06-.94 2.06-2.06.94zm-11 1L8.5 8.5l.94-2.06 2.06-.94-2.06-.94L8.5 2.5l-.94 2.06-2.06.94zm10 10l.94 2.06.94-2.06 2.06-.94-2.06-.94-.94-2.06-.94 2.06-2.06.94z\"/><path d=\"M17.41 7.96l-1.37-1.37c-.4-.4-.92-.59-1.43-.59-.52 0-1.04.2-1.43.59L10.3 9.45l-7.72 7.72c-.78.78-.78 2.05 0 2.83L4 21.41c.39.39.9.59 1.41.59.51 0 1.02-.2 1.41-.59l7.78-7.78 2.81-2.81c.8-.78.8-2.07 0-2.86zM5.41 20L4 18.59l7.72-7.72 1.47 1.35L5.41 20z\"/>\n",
              "  </svg>\n",
              "      </button>\n",
              "      \n",
              "  <style>\n",
              "    .colab-df-container {\n",
              "      display:flex;\n",
              "      flex-wrap:wrap;\n",
              "      gap: 12px;\n",
              "    }\n",
              "\n",
              "    .colab-df-convert {\n",
              "      background-color: #E8F0FE;\n",
              "      border: none;\n",
              "      border-radius: 50%;\n",
              "      cursor: pointer;\n",
              "      display: none;\n",
              "      fill: #1967D2;\n",
              "      height: 32px;\n",
              "      padding: 0 0 0 0;\n",
              "      width: 32px;\n",
              "    }\n",
              "\n",
              "    .colab-df-convert:hover {\n",
              "      background-color: #E2EBFA;\n",
              "      box-shadow: 0px 1px 2px rgba(60, 64, 67, 0.3), 0px 1px 3px 1px rgba(60, 64, 67, 0.15);\n",
              "      fill: #174EA6;\n",
              "    }\n",
              "\n",
              "    [theme=dark] .colab-df-convert {\n",
              "      background-color: #3B4455;\n",
              "      fill: #D2E3FC;\n",
              "    }\n",
              "\n",
              "    [theme=dark] .colab-df-convert:hover {\n",
              "      background-color: #434B5C;\n",
              "      box-shadow: 0px 1px 3px 1px rgba(0, 0, 0, 0.15);\n",
              "      filter: drop-shadow(0px 1px 2px rgba(0, 0, 0, 0.3));\n",
              "      fill: #FFFFFF;\n",
              "    }\n",
              "  </style>\n",
              "\n",
              "      <script>\n",
              "        const buttonEl =\n",
              "          document.querySelector('#df-1df3c79b-a42f-4e56-b069-ccc868bf24b0 button.colab-df-convert');\n",
              "        buttonEl.style.display =\n",
              "          google.colab.kernel.accessAllowed ? 'block' : 'none';\n",
              "\n",
              "        async function convertToInteractive(key) {\n",
              "          const element = document.querySelector('#df-1df3c79b-a42f-4e56-b069-ccc868bf24b0');\n",
              "          const dataTable =\n",
              "            await google.colab.kernel.invokeFunction('convertToInteractive',\n",
              "                                                     [key], {});\n",
              "          if (!dataTable) return;\n",
              "\n",
              "          const docLinkHtml = 'Like what you see? Visit the ' +\n",
              "            '<a target=\"_blank\" href=https://colab.research.google.com/notebooks/data_table.ipynb>data table notebook</a>'\n",
              "            + ' to learn more about interactive tables.';\n",
              "          element.innerHTML = '';\n",
              "          dataTable['output_type'] = 'display_data';\n",
              "          await google.colab.output.renderOutput(dataTable, element);\n",
              "          const docLink = document.createElement('div');\n",
              "          docLink.innerHTML = docLinkHtml;\n",
              "          element.appendChild(docLink);\n",
              "        }\n",
              "      </script>\n",
              "    </div>\n",
              "  </div>\n",
              "  "
            ]
          },
          "metadata": {},
          "execution_count": 14
        }
      ]
    },
    {
      "cell_type": "markdown",
      "source": [
        "#### **Women** e **Beauty** são as principais categorias da *coluna 'main_cat'* em condicao_1, chegando a mais de **58% do total** dos itens."
      ],
      "metadata": {
        "id": "juI1CNswfDK8"
      }
    },
    {
      "cell_type": "code",
      "source": [
        "print('Frequencia relativa das categorias com condição 1\\n')\n",
        "condicao_1['main_cat'].value_counts(normalize = True).mul(100).round(1).astype(str) + '%'"
      ],
      "metadata": {
        "id": "2jTamYMnqVbz",
        "outputId": "86638dce-8bd3-4566-de42-f6875a6e36ad",
        "colab": {
          "base_uri": "https://localhost:8080/"
        }
      },
      "execution_count": 15,
      "outputs": [
        {
          "output_type": "stream",
          "name": "stdout",
          "text": [
            "Frequencia relativa das categorias com condição 1\n",
            "\n"
          ]
        },
        {
          "output_type": "execute_result",
          "data": {
            "text/plain": [
              "Women                     35.7%\n",
              "Beauty                    23.5%\n",
              "Kids                       9.0%\n",
              "Electronics                8.2%\n",
              "Home                       6.8%\n",
              "Men                        4.5%\n",
              "Other                      4.4%\n",
              "Handmade                   3.1%\n",
              "Vintage & Collectibles     2.9%\n",
              "Sports & Outdoors          1.9%\n",
              "Name: main_cat, dtype: object"
            ]
          },
          "metadata": {},
          "execution_count": 15
        }
      ]
    },
    {
      "cell_type": "markdown",
      "source": [
        "#### A categoria **Women** representa **mais de 44%** dos preços totais da condicao_1, somando **quase 7.5 milhões** de dolares. Logo em seguida, com **mais de 17%** dos preços totais vem a categoria **Beauty**, somando **quase 3 milhões** de dolares."
      ],
      "metadata": {
        "id": "gHc-AVMnrpeH"
      }
    },
    {
      "cell_type": "code",
      "source": [
        "cat_index = condicao_1['main_cat'].unique()\n",
        "\n",
        "porc_preco_condicao_1 = []\n",
        "\n",
        "for categorias in cat_index:\n",
        "    cat_condicao_1 = condicao_1[condicao_1['main_cat'] == categorias]\n",
        "    porc_preco_condicao_1.append(((cat_condicao_1.price.sum() * 100) \n",
        "                                / condicao_1.price.sum()).round(1))\n",
        "\n",
        "pd.Series(index = cat_index,\n",
        "          data = porc_preco_condicao_1).sort_values(ascending=False)"
      ],
      "metadata": {
        "colab": {
          "base_uri": "https://localhost:8080/"
        },
        "id": "cXRNCvmimzJ6",
        "outputId": "d33341ef-0557-4e31-bf1f-8850078d2d4f"
      },
      "execution_count": 16,
      "outputs": [
        {
          "output_type": "execute_result",
          "data": {
            "text/plain": [
              "Women                     44.2\n",
              "Beauty                    17.6\n",
              "Kids                       7.5\n",
              "Electronics                7.3\n",
              "Men                        7.1\n",
              "Home                       6.8\n",
              "Other                      3.3\n",
              "Vintage & Collectibles     2.8\n",
              "Handmade                   1.8\n",
              "Sports & Outdoors          1.7\n",
              "dtype: float64"
            ]
          },
          "metadata": {},
          "execution_count": 16
        }
      ]
    },
    {
      "cell_type": "code",
      "source": [
        "print('price total da categoria Women\\n$', condicao_1[condicao_1['main_cat'] \n",
        "                                                      == 'Women'].price.sum())\n"
      ],
      "metadata": {
        "colab": {
          "base_uri": "https://localhost:8080/"
        },
        "id": "DLCpKpzbiRUj",
        "outputId": "0a1f27b1-5aca-4a46-9b26-015ec4223f69"
      },
      "execution_count": 17,
      "outputs": [
        {
          "output_type": "stream",
          "name": "stdout",
          "text": [
            "price total da categoria Women\n",
            "$ 7469816.5\n"
          ]
        }
      ]
    },
    {
      "cell_type": "code",
      "source": [
        "print('price total da categoria Beauty\\n$', condicao_1[condicao_1['main_cat']\n",
        "                                                       == 'Beauty'].price.sum())\n"
      ],
      "metadata": {
        "colab": {
          "base_uri": "https://localhost:8080/"
        },
        "id": "85EQ9fC6AWDI",
        "outputId": "ff3276df-dfa2-43d6-a35c-1b6233fdcc7c"
      },
      "execution_count": 18,
      "outputs": [
        {
          "output_type": "stream",
          "name": "stdout",
          "text": [
            "price total da categoria Beauty\n",
            "$ 2970445.5\n"
          ]
        }
      ]
    },
    {
      "cell_type": "markdown",
      "source": [
        "## VISUALIZAÇÃO"
      ],
      "metadata": {
        "id": "pj1xmVWJDFN1"
      }
    },
    {
      "cell_type": "markdown",
      "source": [
        "#### Visualização do preço médio das principais categorias por condição do item"
      ],
      "metadata": {
        "id": "ZZo7QI11Uxbq"
      }
    },
    {
      "cell_type": "code",
      "source": [
        "import matplotlib.pyplot as plt\n",
        "import seaborn as sns; sns.set_theme()"
      ],
      "metadata": {
        "id": "XFJ3Ebp-VAG-"
      },
      "execution_count": 19,
      "outputs": []
    },
    {
      "cell_type": "code",
      "source": [
        "plt.figure(figsize=(10,6))\n",
        "sns.lineplot(x='item_condition_id', y='price',hue=\"main_cat\", data=train)\n",
        "plt.legend(bbox_to_anchor=(1.02, 1), loc='upper left', borderaxespad=0)\n",
        "\n",
        "plt.xlabel(\"Condições dos itens\")\n",
        "plt.ylabel(\"Preço medio\")\n",
        "plt.title(\"Preço médio das principais categorias por condição do item\")\n",
        "plt.show()"
      ],
      "metadata": {
        "colab": {
          "base_uri": "https://localhost:8080/",
          "height": 0
        },
        "outputId": "5168fc9d-42ec-4500-b9bf-06b0545b99af",
        "id": "IQ-LAUjVUusA"
      },
      "execution_count": 20,
      "outputs": [
        {
          "output_type": "display_data",
          "data": {
            "text/plain": [
              "<Figure size 720x432 with 1 Axes>"
            ],
            "image/png": "[encoded data removed]"
          },
          "metadata": {}
        }
      ]
    },
    {
      "cell_type": "code",
      "source": [
        "plt.figure(figsize=(10,6))\n",
        "sns.set_palette(\"RdBu_r\")\n",
        "\n",
        "ax = sns.barplot(x=\"item_condition_id\", y=\"price\",\n",
        "                 hue=\"shipping\", data=train)\n",
        "\n",
        "plt.legend(title='Frete', bbox_to_anchor=(1.02, 1),\n",
        "           loc='upper left', borderaxespad=0)\n",
        "\n",
        "plt.xlabel(\"Condições dos itens\")\n",
        "plt.ylabel(\"Preço medio\")\n",
        "plt.title(\"Preço e condição dos itens em relação ao frete\")\n",
        "\n",
        "plt.show()"
      ],
      "metadata": {
        "colab": {
          "base_uri": "https://localhost:8080/",
          "height": 0
        },
        "id": "pO74WS1yjQUL",
        "outputId": "f4d66309-e894-4d3c-bde6-aca5a5e8078a"
      },
      "execution_count": 21,
      "outputs": [
        {
          "output_type": "display_data",
          "data": {
            "text/plain": [
              "<Figure size 720x432 with 1 Axes>"
            ],
            "image/png": "[encoded data removed]"
          },
          "metadata": {}
        }
      ]
    },
    {
      "cell_type": "markdown",
      "source": [
        "O preço médio, independente da condição do item correspondem ao esperado em relação ao frete. Os itens com o preço médio maior possuem a maior parte dos itens com frete gratis. "
      ],
      "metadata": {
        "id": "BQK0iMqH9Q0f"
      }
    },
    {
      "cell_type": "code",
      "source": [
        "sns.boxplot(x='shipping', y='item_condition_id', data=train)\n",
        "plt.xlabel(\"Frete\")\n",
        "plt.ylabel(\"Condições dos itens\")\n",
        "plt.title('Distribuição de frete por condição do item')\n",
        "plt.show()"
      ],
      "metadata": {
        "colab": {
          "base_uri": "https://localhost:8080/",
          "height": 0
        },
        "id": "AhOiopY6Oql-",
        "outputId": "0e148c06-5232-4edb-ba87-5c2301ddd02b"
      },
      "execution_count": 22,
      "outputs": [
        {
          "output_type": "display_data",
          "data": {
            "text/plain": [
              "<Figure size 432x288 with 1 Axes>"
            ],
            "image/png": "[encoded data removed]"
          },
          "metadata": {}
        }
      ]
    },
    {
      "cell_type": "markdown",
      "source": [
        "## EXPERIMENTANDO MODELOS"
      ],
      "metadata": {
        "id": "wz-yuzwLiX6i"
      }
    },
    {
      "cell_type": "code",
      "source": [
        "from sklearn.model_selection import train_test_split\n",
        "from sklearn.linear_model import LinearRegression\n",
        "from sklearn.preprocessing import StandardScaler\n",
        "from sklearn.metrics import r2_score, mean_absolute_error"
      ],
      "metadata": {
        "id": "4xk73Fyu_huj"
      },
      "execution_count": 23,
      "outputs": []
    },
    {
      "cell_type": "markdown",
      "source": [
        "### Testando regressão linear"
      ],
      "metadata": {
        "id": "gN9FeYvVJIZx"
      }
    },
    {
      "cell_type": "markdown",
      "source": [
        "Testando o primeiro modelo de regressão linear para prever os preços dos itens utilizando apenas as colunas 'itens_condition_id' e 'shipping'."
      ],
      "metadata": {
        "id": "fb_FUojRF-2X"
      }
    },
    {
      "cell_type": "code",
      "source": [
        "X = train.drop(['name', 'item_description', 'price', 'main_cat', 'sub_cat_1', 'sub_cat_2'], axis=1)\n",
        "y = train.price\n",
        "\n",
        "X_std = StandardScaler().fit_transform(X)\n",
        "X_train, X_test, y_train, y_test = train_test_split(X_std, y, test_size = 0.2, random_state=10)\n",
        "lr = LinearRegression()\n",
        "lr.fit(X_train, y_train)\n",
        "y_pred = lr.predict(X_test)"
      ],
      "metadata": {
        "id": "B-pA25_X_hsf"
      },
      "execution_count": 24,
      "outputs": []
    },
    {
      "cell_type": "code",
      "source": [
        "print(f'Valor R²: {r2_score(y_test, y_pred):.3f}')\n",
        "print(f'Valor MAE: {mean_absolute_error(y_test, y_pred):.3f}')"
      ],
      "metadata": {
        "colab": {
          "base_uri": "https://localhost:8080/"
        },
        "id": "FJfGvnVAAOsf",
        "outputId": "e79d14ff-0fe8-4d7f-f800-60342b0372a3"
      },
      "execution_count": 25,
      "outputs": [
        {
          "output_type": "stream",
          "name": "stdout",
          "text": [
            "Valor R²: 0.009\n",
            "Valor MAE: 18.175\n"
          ]
        }
      ]
    },
    {
      "cell_type": "markdown",
      "source": [
        "### Testando Regressão logistica"
      ],
      "metadata": {
        "id": "Nq1MB3nEJ9oq"
      }
    },
    {
      "cell_type": "code",
      "source": [
        "from sklearn.linear_model import LogisticRegression\n",
        "from sklearn.metrics import roc_auc_score, roc_curve, classification_report,\\\n",
        "                            accuracy_score, confusion_matrix"
      ],
      "metadata": {
        "id": "fU-CjqArOOR7"
      },
      "execution_count": 26,
      "outputs": []
    },
    {
      "cell_type": "code",
      "source": [
        "# Transforma classe em categorico\n",
        "train_modelado = train.copy()\n",
        "train_modelado['item_condition_id'] = train_modelado['item_condition_id'].astype('category')\n"
      ],
      "metadata": {
        "id": "IUV7zYklKCNY"
      },
      "execution_count": 51,
      "outputs": []
    },
    {
      "cell_type": "code",
      "source": [
        "model = LogisticRegression()\n",
        "baseline_df = train_modelado[['price','item_condition_id']].dropna()\n",
        "y_1 = baseline_df.price\n",
        "X_1 = pd.get_dummies(baseline_df['item_condition_id'], drop_first=False) # transforma categoria em dummies\n",
        "print(X_1)"
      ],
      "metadata": {
        "colab": {
          "base_uri": "https://localhost:8080/"
        },
        "id": "Cm5goWX3RvnI",
        "outputId": "8bedab0d-88b6-4cd4-d442-959cd27c3f6f"
      },
      "execution_count": 52,
      "outputs": [
        {
          "output_type": "stream",
          "name": "stdout",
          "text": [
            "         1  2  3  4  5\n",
            "0        0  0  1  0  0\n",
            "1        0  0  1  0  0\n",
            "2        1  0  0  0  0\n",
            "3        1  0  0  0  0\n",
            "4        1  0  0  0  0\n",
            "...     .. .. .. .. ..\n",
            "1476199  0  1  0  0  0\n",
            "1476200  0  1  0  0  0\n",
            "1476201  0  1  0  0  0\n",
            "1476202  0  0  1  0  0\n",
            "1476203  1  0  0  0  0\n",
            "\n",
            "[1476204 rows x 5 columns]\n"
          ]
        }
      ]
    }
  ]
}