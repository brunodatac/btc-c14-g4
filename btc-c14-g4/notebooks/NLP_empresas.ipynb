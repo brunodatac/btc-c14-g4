{
  "nbformat": 4,
  "nbformat_minor": 0,
  "metadata": {
    "colab": {
      "provenance": [],
      "collapsed_sections": [
        "dfBufCCgLaoK",
        "wQVuKzWZLdZ6",
        "Jd0LsDiJroPz",
        "A89j5uDAnSfo",
        "5YBLQ6x4Yudk"
      ],
      "authorship_tag": "ABX9TyN6w6HFtmbBwVgAxhzXszuv",
      "include_colab_link": true
    },
    "kernelspec": {
      "name": "python3",
      "display_name": "Python 3"
    },
    "language_info": {
      "name": "python"
    }
  },
  "cells": [
    {
      "cell_type": "markdown",
      "metadata": {
        "id": "view-in-github",
        "colab_type": "text"
      },
      "source": [
        "<a href=\"https://colab.research.google.com/github/flaviowu/btc-c14-g4/blob/main/btc-c14-g4/notebooks/NLP_empresas.ipynb\" target=\"_parent\"><img src=\"https://colab.research.google.com/assets/colab-badge.svg\" alt=\"Open In Colab\"/></a>"
      ]
    },
    {
      "cell_type": "markdown",
      "source": [
        "### Leitura dos Dados"
      ],
      "metadata": {
        "id": "dfBufCCgLaoK"
      }
    },
    {
      "cell_type": "code",
      "source": [
        "from google.colab import drive\n",
        "drive.mount('/content/drive')"
      ],
      "metadata": {
        "colab": {
          "base_uri": "https://localhost:8080/"
        },
        "id": "46CZ3Ir9K0x6",
        "outputId": "dd516d6e-c3cd-4cf6-866b-c14efa44fba4"
      },
      "execution_count": null,
      "outputs": [
        {
          "output_type": "stream",
          "name": "stdout",
          "text": [
            "Mounted at /content/drive\n"
          ]
        }
      ]
    },
    {
      "cell_type": "code",
      "source": [
        "import pandas as pd \n",
        "import numpy as np"
      ],
      "metadata": {
        "id": "0EXDe1_rK6bT"
      },
      "execution_count": null,
      "outputs": []
    },
    {
      "cell_type": "code",
      "source": [
        "train = pd.read_csv('/content/drive/MyDrive/BTC-Dados-G4/train_clean_rev2.csv')\n",
        "test = pd.read_csv('/content/drive/MyDrive/BTC-Dados-G4/train_clean_rev2.csv')"
      ],
      "metadata": {
        "id": "wb3s1zUuK8yp"
      },
      "execution_count": null,
      "outputs": []
    },
    {
      "cell_type": "markdown",
      "source": [
        "### Drop Linhas Dúplicadas"
      ],
      "metadata": {
        "id": "wQVuKzWZLdZ6"
      }
    },
    {
      "cell_type": "code",
      "source": [
        "dados_unicos.shape"
      ],
      "metadata": {
        "colab": {
          "base_uri": "https://localhost:8080/"
        },
        "id": "Csh3auBbQHVx",
        "outputId": "661fedfb-c2d6-41c6-c5e2-2e19caf1011c"
      },
      "execution_count": null,
      "outputs": [
        {
          "output_type": "execute_result",
          "data": {
            "text/plain": [
              "(1341267, 11)"
            ]
          },
          "metadata": {},
          "execution_count": 18
        }
      ]
    },
    {
      "cell_type": "code",
      "source": [
        "def Apaga_Duplicado(data='x', colunas=['y']):\n",
        "  data = data.drop_duplicates(subset = colunas, keep= 'first', inplace = False)\n",
        "  return data"
      ],
      "metadata": {
        "id": "uNG_wTGpM81q"
      },
      "execution_count": null,
      "outputs": []
    },
    {
      "cell_type": "code",
      "source": [
        "dados_unicos = Apaga_Duplicado(dados_unicos, ['name','brand_name','price'])"
      ],
      "metadata": {
        "id": "u6ZRuZ5TOD5b"
      },
      "execution_count": null,
      "outputs": []
    },
    {
      "cell_type": "code",
      "source": [
        "dados_unicos.shape"
      ],
      "metadata": {
        "colab": {
          "base_uri": "https://localhost:8080/"
        },
        "id": "qId5CAFPOuVL",
        "outputId": "0c058ebb-f727-4859-e82c-4e1813b114c4"
      },
      "execution_count": null,
      "outputs": [
        {
          "output_type": "execute_result",
          "data": {
            "text/plain": [
              "(1308675, 11)"
            ]
          },
          "metadata": {},
          "execution_count": 21
        }
      ]
    },
    {
      "cell_type": "markdown",
      "source": [
        "### Separação de dados em df Marcas nulas e preenchidas. Limpeza da coluna Descrição"
      ],
      "metadata": {
        "id": "Jd0LsDiJroPz"
      }
    },
    {
      "cell_type": "code",
      "source": [
        "dados_unicos.drop(['date', 'stock'], axis=1, inplace=True)"
      ],
      "metadata": {
        "id": "GsnBvQsvTJfD"
      },
      "execution_count": null,
      "outputs": []
    },
    {
      "cell_type": "code",
      "source": [
        "DF_sem_marca = dados_unicos.loc[train['brand_name'].isnull() == True]"
      ],
      "metadata": {
        "id": "LRDTDjNtYc4v"
      },
      "execution_count": null,
      "outputs": []
    },
    {
      "cell_type": "code",
      "source": [
        "DF_com_marca = dados_unicos.drop(DF_sem_marca.index, axis=0)"
      ],
      "metadata": {
        "id": "O7LZo-3dZhTV"
      },
      "execution_count": null,
      "outputs": []
    },
    {
      "cell_type": "code",
      "source": [
        "DF_com_marca.shape, DF_sem_marca.shape"
      ],
      "metadata": {
        "colab": {
          "base_uri": "https://localhost:8080/"
        },
        "id": "-pIau-MgadoH",
        "outputId": "59c3356e-2bce-4387-f33c-5886e61d00ea"
      },
      "execution_count": null,
      "outputs": [
        {
          "output_type": "execute_result",
          "data": {
            "text/plain": [
              "((733973, 9), (574702, 9))"
            ]
          },
          "metadata": {},
          "execution_count": 50
        }
      ]
    },
    {
      "cell_type": "markdown",
      "source": [
        "### Dividir para conquistar"
      ],
      "metadata": {
        "id": "A89j5uDAnSfo"
      }
    },
    {
      "cell_type": "code",
      "source": [
        "def transforme_nlp(serie, data):\n",
        "  data_series = serie.apply( lambda x: nlp(x) )\n",
        "  data['empresa_encontrada'] = data_series.apply( lambda x: [ent for ent in x.ents if ent.label_ == 'ORG'])"
      ],
      "metadata": {
        "id": "oiIVNxv-sYAK"
      },
      "execution_count": null,
      "outputs": []
    },
    {
      "cell_type": "code",
      "source": [
        "amostra_1 = DF_sem_marca['item_description'][0:30000]\n",
        "amostra_2 = DF_sem_marca['item_description'][30001:60000]\n",
        "amostra_3 = DF_sem_marca['item_description'][60001:90000]\n",
        "amostra_4 = DF_sem_marca['item_description'][90001:120000]\n",
        "amostra_5 = DF_sem_marca['item_description'][120001:150000]\n",
        "amostra_6 = DF_sem_marca['item_description'][150001:180000]\n",
        "amostra_7 = DF_sem_marca['item_description'][180001:210000]\n",
        "amostra_8 = DF_sem_marca['item_description'][210001:240000]\n",
        "amostra_9 = DF_sem_marca['item_description'][240001:270000]"
      ],
      "metadata": {
        "id": "FayChjz8CVZB"
      },
      "execution_count": null,
      "outputs": []
    },
    {
      "cell_type": "code",
      "source": [
        "amostra_10 = DF_sem_marca['item_description'][270001:300000]\n",
        "amostra_11 = DF_sem_marca['item_description'][300001:330000]\n",
        "amostra_12 = DF_sem_marca['item_description'][330001:360000]\n",
        "amostra_13 = DF_sem_marca['item_description'][360001:390000]\n",
        "amostra_14 = DF_sem_marca['item_description'][390001:420000]\n",
        "amostra_15 = DF_sem_marca['item_description'][420001:450000]\n",
        "amostra_16 = DF_sem_marca['item_description'][450001:480000]\n",
        "amostra_17 = DF_sem_marca['item_description'][480001:520000]\n",
        "amostra_18 = DF_sem_marca['item_description'][520000:]"
      ],
      "metadata": {
        "id": "mRJVsnyJoO8a"
      },
      "execution_count": null,
      "outputs": []
    },
    {
      "cell_type": "code",
      "source": [
        "lista = [ amostra_1, amostra_2, amostra_3, amostra_4, amostra_5, amostra_6, amostra_7, amostra_8, amostra_9,\n",
        "        amostra_10, amostra_11, amostra_12, amostra_13, amostra_14, amostra_15, amostra_16, amostra_17, amostra_18]"
      ],
      "metadata": {
        "id": "akCraE079kHO"
      },
      "execution_count": null,
      "outputs": []
    },
    {
      "cell_type": "code",
      "source": [
        "for amostra in range(len(lista)):\n",
        "  transforme_nlp(lista[amostra], DF_sem_marca)\n",
        "  DF_sem_marca.to_csv(f\"Amostra {amostra}\", encoding = 'utf-8')"
      ],
      "metadata": {
        "colab": {
          "base_uri": "https://localhost:8080/"
        },
        "id": "ki92o7ql9-5D",
        "outputId": "323f1382-969b-4710-95e5-4727067fc745"
      },
      "execution_count": null,
      "outputs": [
        {
          "output_type": "stream",
          "name": "stderr",
          "text": [
            "/usr/local/lib/python3.7/dist-packages/ipykernel_launcher.py:3: SettingWithCopyWarning: \n",
            "A value is trying to be set on a copy of a slice from a DataFrame.\n",
            "Try using .loc[row_indexer,col_indexer] = value instead\n",
            "\n",
            "See the caveats in the documentation: https://pandas.pydata.org/pandas-docs/stable/user_guide/indexing.html#returning-a-view-versus-a-copy\n",
            "  This is separate from the ipykernel package so we can avoid doing imports until\n"
          ]
        }
      ]
    },
    {
      "cell_type": "markdown",
      "source": [
        "### Unindo as amostras"
      ],
      "metadata": {
        "id": "5YBLQ6x4Yudk"
      }
    },
    {
      "cell_type": "code",
      "source": [
        "lista = []\n",
        "for posicao in range(18):\n",
        "  dados_unificados_sm = pd.read_csv(f'/content/Amostra {posicao}')\n",
        "  apagar = dados_unificados_sm.loc[dados_unificados_sm['empresa_encontrada'] == \"[]\"]\n",
        "  dados_unificados_sm.drop(apagar.index, axis=0, inplace=True)\n",
        "  lista.append(dados_unificados_sm)\n",
        "  if posicao == 0:\n",
        "    cont_empresa = dados_unificados_sm\n",
        "  else:\n",
        "    cont_empresa = pd.concat([cont_empresa, lista[posicao]], ignore_index=True)\n",
        "    cont_empresa = Apaga_Duplicado(cont_empresa, ['empresa_encontrada', 'name', 'price'])"
      ],
      "metadata": {
        "colab": {
          "base_uri": "https://localhost:8080/"
        },
        "id": "aZ5SFWaIYzfk",
        "outputId": "5461dec2-d06e-4db2-ee29-10d95c3e8a26"
      },
      "execution_count": null,
      "outputs": [
        {
          "output_type": "stream",
          "name": "stderr",
          "text": [
            "/usr/local/lib/python3.7/dist-packages/IPython/core/interactiveshell.py:3326: DtypeWarning: Columns (10) have mixed types.Specify dtype option on import or set low_memory=False.\n",
            "  exec(code_obj, self.user_global_ns, self.user_ns)\n"
          ]
        }
      ]
    },
    {
      "cell_type": "code",
      "source": [
        "cont_empresa.shape"
      ],
      "metadata": {
        "colab": {
          "base_uri": "https://localhost:8080/"
        },
        "id": "5cklMnsQtdxs",
        "outputId": "0f0010a3-0e22-428a-dbd5-9e3e6fa6c076"
      },
      "execution_count": null,
      "outputs": [
        {
          "output_type": "execute_result",
          "data": {
            "text/plain": [
              "(626426, 11)"
            ]
          },
          "metadata": {},
          "execution_count": 66
        }
      ]
    },
    {
      "cell_type": "code",
      "source": [
        "cont_empresa.to_csv(f\"unificado\", encoding = 'utf-8')"
      ],
      "metadata": {
        "id": "NpDvt3U4q4m2"
      },
      "execution_count": null,
      "outputs": []
    },
    {
      "cell_type": "markdown",
      "source": [
        "## Conjuntos de Treino"
      ],
      "metadata": {
        "id": "UmBNDrcjHi06"
      }
    },
    {
      "cell_type": "markdown",
      "source": [
        "São três conjuntos de Treino:\n",
        "\n",
        "1 - Com linhas de Marcas preenchidas;\n",
        "\n",
        "2 - Sem a coluna de Marca;\n",
        "\n",
        "3 - Marcas a partir da NPL onde as linhas estavam vazias.\n",
        "\n"
      ],
      "metadata": {
        "id": "mvu6-mkpItH4"
      }
    },
    {
      "cell_type": "code",
      "source": [
        "DF_com_marca.shape # primeiro conjunto de treino"
      ],
      "metadata": {
        "colab": {
          "base_uri": "https://localhost:8080/"
        },
        "id": "lBmUTLTBHm-R",
        "outputId": "e1cf3405-6896-476b-a0b9-4741c1b6f862"
      },
      "execution_count": null,
      "outputs": [
        {
          "output_type": "execute_result",
          "data": {
            "text/plain": [
              "(733973, 9)"
            ]
          },
          "metadata": {},
          "execution_count": 68
        }
      ]
    },
    {
      "cell_type": "code",
      "source": [
        "train.drop('brand_name', 'date', 'stock'] axis=1, inplace=True)"
      ],
      "metadata": {
        "id": "EsJQlpqrH_BH"
      },
      "execution_count": null,
      "outputs": []
    },
    {
      "cell_type": "code",
      "source": [
        "train.shape # Segundo conjunto de treino"
      ],
      "metadata": {
        "colab": {
          "base_uri": "https://localhost:8080/"
        },
        "id": "jmTnpruobiWY",
        "outputId": "cc1f30dc-21ec-4db4-b44a-c27f4d64b2f2"
      },
      "execution_count": null,
      "outputs": [
        {
          "output_type": "execute_result",
          "data": {
            "text/plain": [
              "(1476204, 8)"
            ]
          },
          "metadata": {},
          "execution_count": 99
        }
      ]
    },
    {
      "cell_type": "code",
      "source": [
        "cont_empresa = cont_empresa.reindex(columns= ['name', 'item_condition_id', 'empresa_encontrada', 'price',\n",
        "       'shipping', 'item_description', 'main_cat', 'sub_cat_1', 'sub_cat_2',\n",
        "       'brand_name'])"
      ],
      "metadata": {
        "id": "d2qORbdIZ37-"
      },
      "execution_count": null,
      "outputs": []
    },
    {
      "cell_type": "code",
      "source": [
        "cont_empresa.drop('brand_name', axis=1, inplace=True)"
      ],
      "metadata": {
        "id": "QHQNepD6aksn"
      },
      "execution_count": null,
      "outputs": []
    },
    {
      "cell_type": "code",
      "source": [
        "cont_empresa.columns = ['name', 'item_condition_id', 'brand_name', 'price', 'shipping',\n",
        "       'item_description', 'main_cat', 'sub_cat_1', 'sub_cat_2']"
      ],
      "metadata": {
        "id": "3H_p3kEGbG21"
      },
      "execution_count": null,
      "outputs": []
    },
    {
      "cell_type": "code",
      "source": [
        "DF_unificado = pd.concat([ DF_com_marca, cont_empresa ], ignore_index=True)"
      ],
      "metadata": {
        "id": "cdJdUwNMIHmX"
      },
      "execution_count": null,
      "outputs": []
    },
    {
      "cell_type": "code",
      "source": [
        "DF_unificado = DF_unificado.dropna()"
      ],
      "metadata": {
        "id": "y0sPqy5df7Ql"
      },
      "execution_count": null,
      "outputs": []
    },
    {
      "cell_type": "code",
      "source": [
        "DF_unificado['brand_name'] = DF_unificado['brand_name'].apply(lambda x: str(x))"
      ],
      "metadata": {
        "id": "Z2Qu8cCreOqH"
      },
      "execution_count": null,
      "outputs": []
    },
    {
      "cell_type": "code",
      "source": [
        "DF_unificado['brand_name'] = DF_unificado['brand_name'].apply(lambda x: re.sub(r\"(@[A-Za-z0-9]+)|([^0-9A-Za-z \\t])|(\\w+:\\/\\/\\S+)|^rt|http.+?\", '', x))"
      ],
      "metadata": {
        "id": "k7BzjKVtcnta"
      },
      "execution_count": null,
      "outputs": []
    },
    {
      "cell_type": "code",
      "source": [
        "DF_unificado.to_csv(f\"DF_empresas_nlp\", encoding = 'utf-8')"
      ],
      "metadata": {
        "id": "gaNpXfMUPaAX"
      },
      "execution_count": null,
      "outputs": []
    },
    {
      "cell_type": "code",
      "source": [
        "DF_unificado.shape  # terceiro conjunto de treino"
      ],
      "metadata": {
        "id": "dN2byLEhkTam",
        "outputId": "ffd9d819-5763-488a-ec49-83836e13bc64",
        "colab": {
          "base_uri": "https://localhost:8080/"
        }
      },
      "execution_count": null,
      "outputs": [
        {
          "output_type": "execute_result",
          "data": {
            "text/plain": [
              "(785697, 9)"
            ]
          },
          "metadata": {},
          "execution_count": 179
        }
      ]
    }
  ]
}